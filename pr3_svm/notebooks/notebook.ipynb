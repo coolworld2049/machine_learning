{
 "metadata": {
  "kernelspec": {
   "language": "python",
   "display_name": "Python 3",
   "name": "python3"
  },
  "language_info": {
   "pygments_lexer": "ipython3",
   "nbconvert_exporter": "python",
   "version": "3.6.4",
   "file_extension": ".py",
   "codemirror_mode": {
    "name": "ipython",
    "version": 3
   },
   "name": "python",
   "mimetype": "text/x-python"
  }
 },
 "nbformat_minor": 4,
 "nbformat": 4,
 "cells": [
  {
   "cell_type": "code",
   "execution_count": null,
   "outputs": [],
   "source": [
    "import matplotlib.pyplot as plt\n",
    "import pandas as pd\n",
    "import seaborn as sn\n",
    "from sklearn.model_selection import train_test_split"
   ],
   "metadata": {
    "collapsed": false
   }
  },
  {
   "cell_type": "code",
   "execution_count": null,
   "outputs": [],
   "source": [
    "df = pd.read_csv(\"../data/iris.csv\")\n",
    "df = df.drop(\"Id\", axis=1)\n",
    "df.head()"
   ],
   "metadata": {
    "collapsed": false
   }
  },
  {
   "cell_type": "code",
   "execution_count": null,
   "outputs": [],
   "source": [
    "fig = df[df.Species == \"Iris-setosa\"].plot(\n",
    "    kind=\"scatter\", x=\"SepalLengthCm\", y=\"SepalWidthCm\", color=\"orange\", label=\"Setosa\"\n",
    ")\n",
    "df[df.Species == \"Iris-versicolor\"].plot(\n",
    "    kind=\"scatter\",\n",
    "    x=\"SepalLengthCm\",\n",
    "    y=\"SepalWidthCm\",\n",
    "    color=\"blue\",\n",
    "    label=\"versicolor\",\n",
    "    ax=fig,\n",
    ")\n",
    "df[df.Species == \"Iris-virginica\"].plot(\n",
    "    kind=\"scatter\",\n",
    "    x=\"SepalLengthCm\",\n",
    "    y=\"SepalWidthCm\",\n",
    "    color=\"green\",\n",
    "    label=\"virginica\",\n",
    "    ax=fig,\n",
    ")\n",
    "fig.set_xlabel(\"Sepal Length\")\n",
    "fig.set_ylabel(\"Sepal Width\")\n",
    "fig.set_title(\"Sepal Length VS Width\")\n",
    "fig = plt.gcf()\n",
    "fig.set_size_inches(12, 8)\n",
    "plt.show()"
   ],
   "metadata": {
    "collapsed": false
   }
  },
  {
   "cell_type": "code",
   "execution_count": null,
   "outputs": [],
   "source": [
    "train, test = train_test_split(df, test_size=0.3)\n",
    "features_columns = [\n",
    "    \"SepalLengthCm\",\n",
    "    \"SepalWidthCm\",\n",
    "    \"PetalLengthCm\",\n",
    "    \"PetalWidthCm\",\n",
    "]\n",
    "X_train = train[features_columns]\n",
    "y_train = train.Species\n",
    "X_test = test[features_columns]\n",
    "y_test = test.Species"
   ],
   "metadata": {
    "collapsed": false
   }
  },
  {
   "cell_type": "markdown",
   "source": [
    "# Logistic Regression"
   ],
   "metadata": {
    "collapsed": false
   }
  },
  {
   "cell_type": "code",
   "execution_count": null,
   "outputs": [],
   "source": [
    "from sklearn.linear_model import LogisticRegression\n",
    "from sklearn import svm\n",
    "from sklearn import metrics\n",
    "\n",
    "logreg = LogisticRegression(max_iter=150)\n",
    "logreg.fit(X_train, y_train)\n",
    "pred = logreg.predict(X_test)\n",
    "print(\"accuracy_score\", metrics.accuracy_score(pred, y_test))"
   ],
   "metadata": {
    "collapsed": false
   }
  },
  {
   "cell_type": "code",
   "execution_count": null,
   "outputs": [],
   "source": [
    "model = svm.SVC(C=1.0, kernel=\"rbf\")\n",
    "model.fit(X_train, y_train)"
   ],
   "metadata": {
    "collapsed": false
   }
  },
  {
   "cell_type": "code",
   "execution_count": null,
   "outputs": [],
   "source": [
    "pred = model.predict(X_test)\n",
    "print(metrics.classification_report(pred, y_test))"
   ],
   "metadata": {
    "collapsed": false
   }
  },
  {
   "cell_type": "code",
   "execution_count": null,
   "outputs": [],
   "source": [
    "print('support_vectors', len(model.support_vectors_))"
   ],
   "metadata": {
    "collapsed": false
   }
  },
  {
   "cell_type": "markdown",
   "source": [
    "# GridsearchCV"
   ],
   "metadata": {
    "collapsed": false
   }
  },
  {
   "cell_type": "code",
   "execution_count": null,
   "outputs": [],
   "source": [
    "from sklearn.model_selection import GridSearchCV\n",
    "\n",
    "param_grid = {\n",
    "    \"C\": [0.1, 1, 10, 100, 1000],\n",
    "    \"gamma\": [1, 0.1, 0.01, 0.001, 0.0001],\n",
    "    \"kernel\": [\"linear\", \"poly\", \"rbf\", \"sigmoid\"],\n",
    "}\n",
    "\n",
    "grid = GridSearchCV(svm.SVC(), param_grid, refit=True, verbose=3)\n",
    "grid.fit(X_train, y_train)"
   ],
   "metadata": {
    "collapsed": false
   }
  },
  {
   "cell_type": "code",
   "execution_count": null,
   "outputs": [],
   "source": [
    "print(grid.best_estimator_)\n",
    "print(grid.best_params_)\n",
    "print(grid.best_score_)"
   ],
   "metadata": {
    "collapsed": false
   }
  },
  {
   "cell_type": "code",
   "execution_count": null,
   "outputs": [],
   "source": [
    "from sklearn.metrics import confusion_matrix, classification_report\n",
    "\n",
    "grid_pred = grid.predict(X_test)\n",
    "sn.heatmap(confusion_matrix(y_test, grid_pred), annot=True)\n",
    "print(classification_report(y_test, grid_pred))"
   ],
   "metadata": {
    "collapsed": false
   }
  }
 ]
}
