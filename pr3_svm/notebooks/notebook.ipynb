{
 "metadata": {
  "kernelspec": {
   "language": "python",
   "display_name": "Python 3",
   "name": "python3"
  },
  "language_info": {
   "pygments_lexer": "ipython3",
   "nbconvert_exporter": "python",
   "version": "3.6.4",
   "file_extension": ".py",
   "codemirror_mode": {
    "name": "ipython",
    "version": 3
   },
   "name": "python",
   "mimetype": "text/x-python"
  }
 },
 "nbformat_minor": 4,
 "nbformat": 4,
 "cells": [
  {
   "cell_type": "code",
   "execution_count": 301,
   "outputs": [],
   "source": [
    "from pprint import pprint\n",
    "\n",
    "import numpy as np  # noqa\n",
    "import pandas as pd\n",
    "import plotly.graph_objs as go\n",
    "from sklearn.model_selection import train_test_split"
   ],
   "metadata": {
    "collapsed": false,
    "ExecuteTime": {
     "end_time": "2023-05-19T21:10:09.285026700Z",
     "start_time": "2023-05-19T21:10:09.237731200Z"
    }
   }
  },
  {
   "cell_type": "code",
   "execution_count": 302,
   "outputs": [],
   "source": [
    "df = pd.read_csv(\"../data/hepatitis.csv\", na_values=\"?\")"
   ],
   "metadata": {
    "collapsed": false,
    "ExecuteTime": {
     "end_time": "2023-05-19T21:10:09.300673100Z",
     "start_time": "2023-05-19T21:10:09.253371300Z"
    }
   }
  },
  {
   "cell_type": "code",
   "execution_count": 303,
   "outputs": [],
   "source": [
    "df.drop([\"ID\"], axis=1, inplace=True)"
   ],
   "metadata": {
    "collapsed": false,
    "ExecuteTime": {
     "end_time": "2023-05-19T21:10:09.300673100Z",
     "start_time": "2023-05-19T21:10:09.268995200Z"
    }
   }
  },
  {
   "cell_type": "code",
   "execution_count": 304,
   "outputs": [
    {
     "data": {
      "text/plain": "   target  age  gender  steroid  antivirals  fatigue  malaise  anorexia  \\\n0       2   30       2      1.0           2      2.0      2.0       2.0   \n1       2   50       1      1.0           2      1.0      2.0       2.0   \n2       2   78       1      2.0           2      1.0      2.0       2.0   \n3       2   31       1      NaN           1      2.0      2.0       2.0   \n4       2   34       1      2.0           2      2.0      2.0       2.0   \n\n   liverBig  liverFirm  spleen  spiders  ascites  varices  bili    alk   sgot  \\\n0       1.0        2.0     2.0      2.0      2.0      2.0   1.0   85.0   18.0   \n1       1.0        2.0     2.0      2.0      2.0      2.0   0.9  135.0   42.0   \n2       2.0        2.0     2.0      2.0      2.0      2.0   0.7   96.0   32.0   \n3       2.0        2.0     2.0      2.0      2.0      2.0   0.7   46.0   52.0   \n4       2.0        2.0     2.0      2.0      2.0      2.0   1.0    NaN  200.0   \n\n   albu  protime  histology  \n0   4.0      NaN          1  \n1   3.5      NaN          1  \n2   4.0      NaN          1  \n3   4.0     80.0          1  \n4   4.0      NaN          1  ",
      "text/html": "<div>\n<style scoped>\n    .dataframe tbody tr th:only-of-type {\n        vertical-align: middle;\n    }\n\n    .dataframe tbody tr th {\n        vertical-align: top;\n    }\n\n    .dataframe thead th {\n        text-align: right;\n    }\n</style>\n<table border=\"1\" class=\"dataframe\">\n  <thead>\n    <tr style=\"text-align: right;\">\n      <th></th>\n      <th>target</th>\n      <th>age</th>\n      <th>gender</th>\n      <th>steroid</th>\n      <th>antivirals</th>\n      <th>fatigue</th>\n      <th>malaise</th>\n      <th>anorexia</th>\n      <th>liverBig</th>\n      <th>liverFirm</th>\n      <th>spleen</th>\n      <th>spiders</th>\n      <th>ascites</th>\n      <th>varices</th>\n      <th>bili</th>\n      <th>alk</th>\n      <th>sgot</th>\n      <th>albu</th>\n      <th>protime</th>\n      <th>histology</th>\n    </tr>\n  </thead>\n  <tbody>\n    <tr>\n      <th>0</th>\n      <td>2</td>\n      <td>30</td>\n      <td>2</td>\n      <td>1.0</td>\n      <td>2</td>\n      <td>2.0</td>\n      <td>2.0</td>\n      <td>2.0</td>\n      <td>1.0</td>\n      <td>2.0</td>\n      <td>2.0</td>\n      <td>2.0</td>\n      <td>2.0</td>\n      <td>2.0</td>\n      <td>1.0</td>\n      <td>85.0</td>\n      <td>18.0</td>\n      <td>4.0</td>\n      <td>NaN</td>\n      <td>1</td>\n    </tr>\n    <tr>\n      <th>1</th>\n      <td>2</td>\n      <td>50</td>\n      <td>1</td>\n      <td>1.0</td>\n      <td>2</td>\n      <td>1.0</td>\n      <td>2.0</td>\n      <td>2.0</td>\n      <td>1.0</td>\n      <td>2.0</td>\n      <td>2.0</td>\n      <td>2.0</td>\n      <td>2.0</td>\n      <td>2.0</td>\n      <td>0.9</td>\n      <td>135.0</td>\n      <td>42.0</td>\n      <td>3.5</td>\n      <td>NaN</td>\n      <td>1</td>\n    </tr>\n    <tr>\n      <th>2</th>\n      <td>2</td>\n      <td>78</td>\n      <td>1</td>\n      <td>2.0</td>\n      <td>2</td>\n      <td>1.0</td>\n      <td>2.0</td>\n      <td>2.0</td>\n      <td>2.0</td>\n      <td>2.0</td>\n      <td>2.0</td>\n      <td>2.0</td>\n      <td>2.0</td>\n      <td>2.0</td>\n      <td>0.7</td>\n      <td>96.0</td>\n      <td>32.0</td>\n      <td>4.0</td>\n      <td>NaN</td>\n      <td>1</td>\n    </tr>\n    <tr>\n      <th>3</th>\n      <td>2</td>\n      <td>31</td>\n      <td>1</td>\n      <td>NaN</td>\n      <td>1</td>\n      <td>2.0</td>\n      <td>2.0</td>\n      <td>2.0</td>\n      <td>2.0</td>\n      <td>2.0</td>\n      <td>2.0</td>\n      <td>2.0</td>\n      <td>2.0</td>\n      <td>2.0</td>\n      <td>0.7</td>\n      <td>46.0</td>\n      <td>52.0</td>\n      <td>4.0</td>\n      <td>80.0</td>\n      <td>1</td>\n    </tr>\n    <tr>\n      <th>4</th>\n      <td>2</td>\n      <td>34</td>\n      <td>1</td>\n      <td>2.0</td>\n      <td>2</td>\n      <td>2.0</td>\n      <td>2.0</td>\n      <td>2.0</td>\n      <td>2.0</td>\n      <td>2.0</td>\n      <td>2.0</td>\n      <td>2.0</td>\n      <td>2.0</td>\n      <td>2.0</td>\n      <td>1.0</td>\n      <td>NaN</td>\n      <td>200.0</td>\n      <td>4.0</td>\n      <td>NaN</td>\n      <td>1</td>\n    </tr>\n  </tbody>\n</table>\n</div>"
     },
     "execution_count": 304,
     "metadata": {},
     "output_type": "execute_result"
    }
   ],
   "source": [
    "df.head()"
   ],
   "metadata": {
    "collapsed": false,
    "ExecuteTime": {
     "end_time": "2023-05-19T21:10:09.316363200Z",
     "start_time": "2023-05-19T21:10:09.300673100Z"
    }
   }
  },
  {
   "cell_type": "code",
   "execution_count": 305,
   "outputs": [
    {
     "data": {
      "text/plain": "target         0\nage            0\ngender         0\nsteroid        1\nantivirals     0\nfatigue        1\nmalaise        1\nanorexia       1\nliverBig      10\nliverFirm     11\nspleen         5\nspiders        5\nascites        5\nvarices        5\nbili           6\nalk           29\nsgot           4\nalbu          16\nprotime       67\nhistology      0\ndtype: int64"
     },
     "execution_count": 305,
     "metadata": {},
     "output_type": "execute_result"
    }
   ],
   "source": [
    "df.isna().sum()"
   ],
   "metadata": {
    "collapsed": false,
    "ExecuteTime": {
     "end_time": "2023-05-19T21:10:09.353960300Z",
     "start_time": "2023-05-19T21:10:09.322044400Z"
    }
   }
  },
  {
   "cell_type": "markdown",
   "source": [
    "# Data cleaning"
   ],
   "metadata": {
    "collapsed": false
   }
  },
  {
   "cell_type": "code",
   "execution_count": 306,
   "outputs": [],
   "source": [
    "df = df.apply(pd.to_numeric, errors=\"coerce\")\n",
    "df = df.dropna()"
   ],
   "metadata": {
    "collapsed": false,
    "ExecuteTime": {
     "end_time": "2023-05-19T21:10:09.369571900Z",
     "start_time": "2023-05-19T21:10:09.338301500Z"
    }
   }
  },
  {
   "cell_type": "code",
   "execution_count": 307,
   "outputs": [
    {
     "data": {
      "text/plain": "target        0\nage           0\ngender        0\nsteroid       0\nantivirals    0\nfatigue       0\nmalaise       0\nanorexia      0\nliverBig      0\nliverFirm     0\nspleen        0\nspiders       0\nascites       0\nvarices       0\nbili          0\nalk           0\nsgot          0\nalbu          0\nprotime       0\nhistology     0\ndtype: int64"
     },
     "execution_count": 307,
     "metadata": {},
     "output_type": "execute_result"
    }
   ],
   "source": [
    "df.isna().sum()"
   ],
   "metadata": {
    "collapsed": false,
    "ExecuteTime": {
     "end_time": "2023-05-19T21:10:09.385600100Z",
     "start_time": "2023-05-19T21:10:09.353960300Z"
    }
   }
  },
  {
   "cell_type": "markdown",
   "source": [
    "# Data separation"
   ],
   "metadata": {
    "collapsed": false
   }
  },
  {
   "cell_type": "code",
   "execution_count": 308,
   "outputs": [],
   "source": [
    "X = df.drop([\"target\"], axis=1)\n",
    "y = df[\"target\"]"
   ],
   "metadata": {
    "collapsed": false,
    "ExecuteTime": {
     "end_time": "2023-05-19T21:10:09.426361900Z",
     "start_time": "2023-05-19T21:10:09.378578100Z"
    }
   }
  },
  {
   "cell_type": "markdown",
   "source": [
    "# Training"
   ],
   "metadata": {
    "collapsed": false
   }
  },
  {
   "cell_type": "code",
   "execution_count": 309,
   "outputs": [],
   "source": [
    "from typing import Literal\n",
    "from sklearn.model_selection import cross_val_score, GridSearchCV\n",
    "from sklearn.svm import SVC\n",
    "from sklearn.metrics import precision_score, recall_score, f1_score, mean_absolute_error\n",
    "\n",
    "\n",
    "def classifiers_metrics(\n",
    "    classifier_type: Literal[\"svc\", \"gridsearch\"],\n",
    "    kernel_types,\n",
    "    X_train,\n",
    "    y_train,\n",
    "    X_test,\n",
    "    y_test,\n",
    "    random_state=0\n",
    "):\n",
    "    performance_metrics = {}\n",
    "    classifier = None\n",
    "    param_grid = None\n",
    "    for kernel in kernel_types:\n",
    "        if classifier_type == \"svc\":\n",
    "            classifier = SVC(kernel=kernel, random_state=random_state)\n",
    "        elif classifier_type == \"gridsearch\":\n",
    "            param_grid = {\n",
    "                \"kernel\": kernel_types,\n",
    "                \"C\": [0.01, 0.1, 1],\n",
    "                \"gamma\": [0.01, 0.1, 1],\n",
    "            }\n",
    "            classifier = GridSearchCV(SVC(kernel=kernel), param_grid, cv=5)\n",
    "\n",
    "        classifier.fit(X_train, y_train)\n",
    "\n",
    "        def metrics(type, actual, pred):\n",
    "            precision = precision_score(actual, pred, average=\"weighted\", zero_division=0)\n",
    "            recall = recall_score(actual, pred, average=\"weighted\", zero_division=0)\n",
    "            f1 = f1_score(actual, pred, average=\"weighted\", zero_division=0)\n",
    "            total_precision = classifier.score(X_test, y_test)\n",
    "            cv_scores = cross_val_score(classifier, X, y)\n",
    "            mean_cv_score = np.mean(cv_scores)\n",
    "            mae = mean_absolute_error(actual, pred)\n",
    "\n",
    "            performance_metrics[kernel] = {\n",
    "                \"Data Type\": type,\n",
    "                \"Total Precision (Accuracy)\": total_precision,\n",
    "                \"Precision\": precision,\n",
    "                \"Recall\": recall,\n",
    "                \"F1-measure\": f1,\n",
    "                \"Mean Cross-Validation Score\": mean_cv_score,\n",
    "                \"MAE\": mae,\n",
    "                \"model\": classifier,\n",
    "            }\n",
    "            performance_metrics[kernel].update(\n",
    "                {\n",
    "                    \"num_support_vectors\": len(classifier.support_),\n",
    "                }\n",
    "            ) if classifier_type == \"svc\" else None\n",
    "\n",
    "\n",
    "        y_test_pred = classifier.predict(X_test)\n",
    "        metrics(\"Test\", y_test, y_test_pred)\n",
    "    return classifier, performance_metrics"
   ],
   "metadata": {
    "collapsed": false,
    "ExecuteTime": {
     "end_time": "2023-05-19T21:10:09.426361900Z",
     "start_time": "2023-05-19T21:10:09.385600100Z"
    }
   }
  },
  {
   "cell_type": "markdown",
   "source": [
    "# Train and evaluate SVC and GridSearchCV classifiers"
   ],
   "metadata": {
    "collapsed": false
   }
  },
  {
   "cell_type": "code",
   "execution_count": 310,
   "outputs": [
    {
     "name": "stdout",
     "output_type": "stream",
     "text": [
      "\n",
      "Test Size: 0.1\n",
      "\n",
      "\tClassifier Type: svc\n",
      "\t\t\tKernel Type: linear\n",
      "\t\t\tKernel Type: rbf\n",
      "\t\t\tKernel Type: poly\n",
      "\t\t\tKernel Type: sigmoid\n",
      "\n",
      "\tClassifier Type: gridsearch\n",
      "\t\t\tKernel Type: linear\n",
      "\t\t\tKernel Type: rbf\n",
      "\t\t\tKernel Type: poly\n",
      "\t\t\tKernel Type: sigmoid\n",
      "\n",
      "Test Size: 0.2\n",
      "\n",
      "\tClassifier Type: svc\n",
      "\t\t\tKernel Type: linear\n",
      "\t\t\tKernel Type: rbf\n",
      "\t\t\tKernel Type: poly\n",
      "\t\t\tKernel Type: sigmoid\n",
      "\n",
      "\tClassifier Type: gridsearch\n",
      "\t\t\tKernel Type: linear\n",
      "\t\t\tKernel Type: rbf\n",
      "\t\t\tKernel Type: poly\n",
      "\t\t\tKernel Type: sigmoid\n",
      "\n",
      "Test Size: 0.3\n",
      "\n",
      "\tClassifier Type: svc\n",
      "\t\t\tKernel Type: linear\n",
      "\t\t\tKernel Type: rbf\n",
      "\t\t\tKernel Type: poly\n",
      "\t\t\tKernel Type: sigmoid\n",
      "\n",
      "\tClassifier Type: gridsearch\n",
      "\t\t\tKernel Type: linear\n",
      "\t\t\tKernel Type: rbf\n",
      "\t\t\tKernel Type: poly\n",
      "\t\t\tKernel Type: sigmoid\n"
     ]
    }
   ],
   "source": [
    "from collections import defaultdict\n",
    "\n",
    "logs = defaultdict(list)\n",
    "gridsearch_logs = defaultdict(list)\n",
    "classifiers = []\n",
    "for ts in range(1, 4):\n",
    "    test_size = ts / 10\n",
    "    print(\"\\nTest Size:\", test_size)\n",
    "    X_train, X_test, y_train, y_test = train_test_split(\n",
    "        X, y, test_size=test_size, random_state=42\n",
    "    )\n",
    "    kernel_types = [\"linear\", \"rbf\", \"poly\", \"sigmoid\"]\n",
    "    for clf in [\"svc\", \"gridsearch\"]:\n",
    "        print(\"\\n\\tClassifier Type:\", clf)\n",
    "        classifier, metrics = classifiers_metrics(\n",
    "            clf, kernel_types, X_train, y_train, X_test, y_test\n",
    "        )\n",
    "        for kernel, metrics_dict in metrics.items():\n",
    "            print(\"\\t\\t\\tKernel Type:\", kernel)\n",
    "            for metric, value in metrics_dict.items():\n",
    "                # print(metric + \":\", value)\n",
    "                logs[test_size, clf, kernel].append({metric: value})\n",
    "        if clf == \"gridsearch\":\n",
    "            gridsearch_logs.update(\n",
    "                {\n",
    "                    \"best_estimator_\": classifier.best_estimator_,\n",
    "                    \"best_params_\": classifier.best_params_,\n",
    "                    \"best_score_\": classifier.best_score_,\n",
    "                }\n",
    "            )"
   ],
   "metadata": {
    "collapsed": false,
    "ExecuteTime": {
     "end_time": "2023-05-19T21:11:16.995372400Z",
     "start_time": "2023-05-19T21:10:09.410552800Z"
    }
   }
  },
  {
   "cell_type": "code",
   "execution_count": 311,
   "outputs": [
    {
     "name": "stdout",
     "output_type": "stream",
     "text": [
      "Logs:\n",
      "defaultdict(<class 'list'>,\n",
      "            {(0.1, 'gridsearch', 'linear'): [{'Data Type': 'Test'},\n",
      "                                             {'Total Precision (Accuracy)': 0.875},\n",
      "                                             {'Precision': 0.765625},\n",
      "                                             {'Recall': 0.875},\n",
      "                                             {'F1-measure': 0.8166666666666667},\n",
      "                                             {'Mean Cross-Validation Score': 0.825},\n",
      "                                             {'MAE': 0.125},\n",
      "                                             {'model': GridSearchCV(cv=5, estimator=SVC(kernel='linear'),\n",
      "             param_grid={'C': [0.01, 0.1, 1], 'gamma': [0.01, 0.1, 1],\n",
      "                         'kernel': ['linear', 'rbf', 'poly', 'sigmoid']})}],\n",
      "             (0.1, 'gridsearch', 'poly'): [{'Data Type': 'Test'},\n",
      "                                           {'Total Precision (Accuracy)': 0.875},\n",
      "                                           {'Precision': 0.765625},\n",
      "                                           {'Recall': 0.875},\n",
      "                                           {'F1-measure': 0.8166666666666667},\n",
      "                                           {'Mean Cross-Validation Score': 0.825},\n",
      "                                           {'MAE': 0.125},\n",
      "                                           {'model': GridSearchCV(cv=5, estimator=SVC(kernel='poly'),\n",
      "             param_grid={'C': [0.01, 0.1, 1], 'gamma': [0.01, 0.1, 1],\n",
      "                         'kernel': ['linear', 'rbf', 'poly', 'sigmoid']})}],\n",
      "             (0.1, 'gridsearch', 'rbf'): [{'Data Type': 'Test'},\n",
      "                                          {'Total Precision (Accuracy)': 0.875},\n",
      "                                          {'Precision': 0.765625},\n",
      "                                          {'Recall': 0.875},\n",
      "                                          {'F1-measure': 0.8166666666666667},\n",
      "                                          {'Mean Cross-Validation Score': 0.825},\n",
      "                                          {'MAE': 0.125},\n",
      "                                          {'model': GridSearchCV(cv=5, estimator=SVC(),\n",
      "             param_grid={'C': [0.01, 0.1, 1], 'gamma': [0.01, 0.1, 1],\n",
      "                         'kernel': ['linear', 'rbf', 'poly', 'sigmoid']})}],\n",
      "             (0.1, 'gridsearch', 'sigmoid'): [{'Data Type': 'Test'},\n",
      "                                              {'Total Precision (Accuracy)': 0.875},\n",
      "                                              {'Precision': 0.765625},\n",
      "                                              {'Recall': 0.875},\n",
      "                                              {'F1-measure': 0.8166666666666667},\n",
      "                                              {'Mean Cross-Validation Score': 0.825},\n",
      "                                              {'MAE': 0.125},\n",
      "                                              {'model': GridSearchCV(cv=5, estimator=SVC(kernel='sigmoid'),\n",
      "             param_grid={'C': [0.01, 0.1, 1], 'gamma': [0.01, 0.1, 1],\n",
      "                         'kernel': ['linear', 'rbf', 'poly', 'sigmoid']})}],\n",
      "             (0.1, 'svc', 'linear'): [{'Data Type': 'Test'},\n",
      "                                      {'Total Precision (Accuracy)': 0.875},\n",
      "                                      {'Precision': 0.765625},\n",
      "                                      {'Recall': 0.875},\n",
      "                                      {'F1-measure': 0.8166666666666667},\n",
      "                                      {'Mean Cross-Validation Score': 0.85},\n",
      "                                      {'MAE': 0.125},\n",
      "                                      {'model': SVC(kernel='linear', random_state=0)},\n",
      "                                      {'num_support_vectors': 20}],\n",
      "             (0.1, 'svc', 'poly'): [{'Data Type': 'Test'},\n",
      "                                    {'Total Precision (Accuracy)': 0.875},\n",
      "                                    {'Precision': 0.765625},\n",
      "                                    {'Recall': 0.875},\n",
      "                                    {'F1-measure': 0.8166666666666667},\n",
      "                                    {'Mean Cross-Validation Score': 0.825},\n",
      "                                    {'MAE': 0.125},\n",
      "                                    {'model': SVC(kernel='poly', random_state=0)},\n",
      "                                    {'num_support_vectors': 29}],\n",
      "             (0.1, 'svc', 'rbf'): [{'Data Type': 'Test'},\n",
      "                                   {'Total Precision (Accuracy)': 0.875},\n",
      "                                   {'Precision': 0.765625},\n",
      "                                   {'Recall': 0.875},\n",
      "                                   {'F1-measure': 0.8166666666666667},\n",
      "                                   {'Mean Cross-Validation Score': 0.8375},\n",
      "                                   {'MAE': 0.125},\n",
      "                                   {'model': SVC(random_state=0)},\n",
      "                                   {'num_support_vectors': 30}],\n",
      "             (0.1, 'svc', 'sigmoid'): [{'Data Type': 'Test'},\n",
      "                                       {'Total Precision (Accuracy)': 0.75},\n",
      "                                       {'Precision': 0.75},\n",
      "                                       {'Recall': 0.75},\n",
      "                                       {'F1-measure': 0.75},\n",
      "                                       {'Mean Cross-Validation Score': 0.825},\n",
      "                                       {'MAE': 0.25},\n",
      "                                       {'model': SVC(kernel='sigmoid', random_state=0)},\n",
      "                                       {'num_support_vectors': 25}],\n",
      "             (0.2, 'gridsearch', 'linear'): [{'Data Type': 'Test'},\n",
      "                                             {'Total Precision (Accuracy)': 0.875},\n",
      "                                             {'Precision': 0.875},\n",
      "                                             {'Recall': 0.875},\n",
      "                                             {'F1-measure': 0.875},\n",
      "                                             {'Mean Cross-Validation Score': 0.825},\n",
      "                                             {'MAE': 0.125},\n",
      "                                             {'model': GridSearchCV(cv=5, estimator=SVC(kernel='linear'),\n",
      "             param_grid={'C': [0.01, 0.1, 1], 'gamma': [0.01, 0.1, 1],\n",
      "                         'kernel': ['linear', 'rbf', 'poly', 'sigmoid']})}],\n",
      "             (0.2, 'gridsearch', 'poly'): [{'Data Type': 'Test'},\n",
      "                                           {'Total Precision (Accuracy)': 0.875},\n",
      "                                           {'Precision': 0.875},\n",
      "                                           {'Recall': 0.875},\n",
      "                                           {'F1-measure': 0.875},\n",
      "                                           {'Mean Cross-Validation Score': 0.825},\n",
      "                                           {'MAE': 0.125},\n",
      "                                           {'model': GridSearchCV(cv=5, estimator=SVC(kernel='poly'),\n",
      "             param_grid={'C': [0.01, 0.1, 1], 'gamma': [0.01, 0.1, 1],\n",
      "                         'kernel': ['linear', 'rbf', 'poly', 'sigmoid']})}],\n",
      "             (0.2, 'gridsearch', 'rbf'): [{'Data Type': 'Test'},\n",
      "                                          {'Total Precision (Accuracy)': 0.875},\n",
      "                                          {'Precision': 0.875},\n",
      "                                          {'Recall': 0.875},\n",
      "                                          {'F1-measure': 0.875},\n",
      "                                          {'Mean Cross-Validation Score': 0.825},\n",
      "                                          {'MAE': 0.125},\n",
      "                                          {'model': GridSearchCV(cv=5, estimator=SVC(),\n",
      "             param_grid={'C': [0.01, 0.1, 1], 'gamma': [0.01, 0.1, 1],\n",
      "                         'kernel': ['linear', 'rbf', 'poly', 'sigmoid']})}],\n",
      "             (0.2, 'gridsearch', 'sigmoid'): [{'Data Type': 'Test'},\n",
      "                                              {'Total Precision (Accuracy)': 0.875},\n",
      "                                              {'Precision': 0.875},\n",
      "                                              {'Recall': 0.875},\n",
      "                                              {'F1-measure': 0.875},\n",
      "                                              {'Mean Cross-Validation Score': 0.825},\n",
      "                                              {'MAE': 0.125},\n",
      "                                              {'model': GridSearchCV(cv=5, estimator=SVC(kernel='sigmoid'),\n",
      "             param_grid={'C': [0.01, 0.1, 1], 'gamma': [0.01, 0.1, 1],\n",
      "                         'kernel': ['linear', 'rbf', 'poly', 'sigmoid']})}],\n",
      "             (0.2, 'svc', 'linear'): [{'Data Type': 'Test'},\n",
      "                                      {'Total Precision (Accuracy)': 0.875},\n",
      "                                      {'Precision': 0.875},\n",
      "                                      {'Recall': 0.875},\n",
      "                                      {'F1-measure': 0.875},\n",
      "                                      {'Mean Cross-Validation Score': 0.85},\n",
      "                                      {'MAE': 0.125},\n",
      "                                      {'model': SVC(kernel='linear', random_state=0)},\n",
      "                                      {'num_support_vectors': 21}],\n",
      "             (0.2, 'svc', 'poly'): [{'Data Type': 'Test'},\n",
      "                                    {'Total Precision (Accuracy)': 0.875},\n",
      "                                    {'Precision': 0.765625},\n",
      "                                    {'Recall': 0.875},\n",
      "                                    {'F1-measure': 0.8166666666666667},\n",
      "                                    {'Mean Cross-Validation Score': 0.825},\n",
      "                                    {'MAE': 0.125},\n",
      "                                    {'model': SVC(kernel='poly', random_state=0)},\n",
      "                                    {'num_support_vectors': 26}],\n",
      "             (0.2, 'svc', 'rbf'): [{'Data Type': 'Test'},\n",
      "                                   {'Total Precision (Accuracy)': 0.875},\n",
      "                                   {'Precision': 0.765625},\n",
      "                                   {'Recall': 0.875},\n",
      "                                   {'F1-measure': 0.8166666666666667},\n",
      "                                   {'Mean Cross-Validation Score': 0.8375},\n",
      "                                   {'MAE': 0.125},\n",
      "                                   {'model': SVC(random_state=0)},\n",
      "                                   {'num_support_vectors': 28}],\n",
      "             (0.2, 'svc', 'sigmoid'): [{'Data Type': 'Test'},\n",
      "                                       {'Total Precision (Accuracy)': 0.8125},\n",
      "                                       {'Precision': 0.7583333333333333},\n",
      "                                       {'Recall': 0.8125},\n",
      "                                       {'F1-measure': 0.7844827586206897},\n",
      "                                       {'Mean Cross-Validation Score': 0.825},\n",
      "                                       {'MAE': 0.1875},\n",
      "                                       {'model': SVC(kernel='sigmoid', random_state=0)},\n",
      "                                       {'num_support_vectors': 23}],\n",
      "             (0.3, 'gridsearch', 'linear'): [{'Data Type': 'Test'},\n",
      "                                             {'Total Precision (Accuracy)': 0.875},\n",
      "                                             {'Precision': 0.8650793650793651},\n",
      "                                             {'Recall': 0.875},\n",
      "                                             {'F1-measure': 0.8675958188153309},\n",
      "                                             {'Mean Cross-Validation Score': 0.825},\n",
      "                                             {'MAE': 0.125},\n",
      "                                             {'model': GridSearchCV(cv=5, estimator=SVC(kernel='linear'),\n",
      "             param_grid={'C': [0.01, 0.1, 1], 'gamma': [0.01, 0.1, 1],\n",
      "                         'kernel': ['linear', 'rbf', 'poly', 'sigmoid']})}],\n",
      "             (0.3, 'gridsearch', 'poly'): [{'Data Type': 'Test'},\n",
      "                                           {'Total Precision (Accuracy)': 0.875},\n",
      "                                           {'Precision': 0.8650793650793651},\n",
      "                                           {'Recall': 0.875},\n",
      "                                           {'F1-measure': 0.8675958188153309},\n",
      "                                           {'Mean Cross-Validation Score': 0.825},\n",
      "                                           {'MAE': 0.125},\n",
      "                                           {'model': GridSearchCV(cv=5, estimator=SVC(kernel='poly'),\n",
      "             param_grid={'C': [0.01, 0.1, 1], 'gamma': [0.01, 0.1, 1],\n",
      "                         'kernel': ['linear', 'rbf', 'poly', 'sigmoid']})}],\n",
      "             (0.3, 'gridsearch', 'rbf'): [{'Data Type': 'Test'},\n",
      "                                          {'Total Precision (Accuracy)': 0.875},\n",
      "                                          {'Precision': 0.8650793650793651},\n",
      "                                          {'Recall': 0.875},\n",
      "                                          {'F1-measure': 0.8675958188153309},\n",
      "                                          {'Mean Cross-Validation Score': 0.825},\n",
      "                                          {'MAE': 0.125},\n",
      "                                          {'model': GridSearchCV(cv=5, estimator=SVC(),\n",
      "             param_grid={'C': [0.01, 0.1, 1], 'gamma': [0.01, 0.1, 1],\n",
      "                         'kernel': ['linear', 'rbf', 'poly', 'sigmoid']})}],\n",
      "             (0.3, 'gridsearch', 'sigmoid'): [{'Data Type': 'Test'},\n",
      "                                              {'Total Precision (Accuracy)': 0.875},\n",
      "                                              {'Precision': 0.8650793650793651},\n",
      "                                              {'Recall': 0.875},\n",
      "                                              {'F1-measure': 0.8675958188153309},\n",
      "                                              {'Mean Cross-Validation Score': 0.825},\n",
      "                                              {'MAE': 0.125},\n",
      "                                              {'model': GridSearchCV(cv=5, estimator=SVC(kernel='sigmoid'),\n",
      "             param_grid={'C': [0.01, 0.1, 1], 'gamma': [0.01, 0.1, 1],\n",
      "                         'kernel': ['linear', 'rbf', 'poly', 'sigmoid']})}],\n",
      "             (0.3, 'svc', 'linear'): [{'Data Type': 'Test'},\n",
      "                                      {'Total Precision (Accuracy)': 0.875},\n",
      "                                      {'Precision': 0.8650793650793651},\n",
      "                                      {'Recall': 0.875},\n",
      "                                      {'F1-measure': 0.8675958188153309},\n",
      "                                      {'Mean Cross-Validation Score': 0.85},\n",
      "                                      {'MAE': 0.125},\n",
      "                                      {'model': SVC(kernel='linear', random_state=0)},\n",
      "                                      {'num_support_vectors': 19}],\n",
      "             (0.3, 'svc', 'poly'): [{'Data Type': 'Test'},\n",
      "                                    {'Total Precision (Accuracy)': 0.8333333333333334},\n",
      "                                    {'Precision': 0.6944444444444445},\n",
      "                                    {'Recall': 0.8333333333333334},\n",
      "                                    {'F1-measure': 0.7575757575757575},\n",
      "                                    {'Mean Cross-Validation Score': 0.825},\n",
      "                                    {'MAE': 0.16666666666666666},\n",
      "                                    {'model': SVC(kernel='poly', random_state=0)},\n",
      "                                    {'num_support_vectors': 23}],\n",
      "             (0.3, 'svc', 'rbf'): [{'Data Type': 'Test'},\n",
      "                                   {'Total Precision (Accuracy)': 0.8333333333333334},\n",
      "                                   {'Precision': 0.6944444444444445},\n",
      "                                   {'Recall': 0.8333333333333334},\n",
      "                                   {'F1-measure': 0.7575757575757575},\n",
      "                                   {'Mean Cross-Validation Score': 0.8375},\n",
      "                                   {'MAE': 0.16666666666666666},\n",
      "                                   {'model': SVC(random_state=0)},\n",
      "                                   {'num_support_vectors': 26}],\n",
      "             (0.3, 'svc', 'sigmoid'): [{'Data Type': 'Test'},\n",
      "                                       {'Total Precision (Accuracy)': 0.8333333333333334},\n",
      "                                       {'Precision': 0.6944444444444445},\n",
      "                                       {'Recall': 0.8333333333333334},\n",
      "                                       {'F1-measure': 0.7575757575757575},\n",
      "                                       {'Mean Cross-Validation Score': 0.825},\n",
      "                                       {'MAE': 0.16666666666666666},\n",
      "                                       {'model': SVC(kernel='sigmoid', random_state=0)},\n",
      "                                       {'num_support_vectors': 19}]})\n",
      "Gridsearch Best Params:\n",
      "defaultdict(<class 'list'>,\n",
      "            {'best_estimator_': SVC(C=1, gamma=0.01, kernel='linear'),\n",
      "             'best_params_': {'C': 1, 'gamma': 0.01, 'kernel': 'linear'},\n",
      "             'best_score_': 0.8424242424242424})\n"
     ]
    }
   ],
   "source": [
    "print(\"Logs:\")\n",
    "pprint(logs)\n",
    "print('Gridsearch Best Params:')\n",
    "pprint(gridsearch_logs)"
   ],
   "metadata": {
    "collapsed": false,
    "ExecuteTime": {
     "end_time": "2023-05-19T21:11:17.042253600Z",
     "start_time": "2023-05-19T21:11:17.011009Z"
    }
   }
  },
  {
   "cell_type": "code",
   "execution_count": 312,
   "outputs": [
    {
     "name": "stdout",
     "output_type": "stream",
     "text": [
      "Classifier: (0.1, 'svc', 'linear')\n",
      "Metrics:\n",
      "[{'Data Type': 'Test'},\n",
      " {'Total Precision (Accuracy)': 0.875},\n",
      " {'Precision': 0.765625},\n",
      " {'Recall': 0.875},\n",
      " {'F1-measure': 0.8166666666666667},\n",
      " {'Mean Cross-Validation Score': 0.85},\n",
      " {'MAE': 0.125},\n",
      " {'model': SVC(kernel='linear', random_state=0)},\n",
      " {'num_support_vectors': 20}]\n",
      "\n",
      "Classifier: (0.1, 'svc', 'rbf')\n",
      "Metrics:\n",
      "[{'Data Type': 'Test'},\n",
      " {'Total Precision (Accuracy)': 0.875},\n",
      " {'Precision': 0.765625},\n",
      " {'Recall': 0.875},\n",
      " {'F1-measure': 0.8166666666666667},\n",
      " {'Mean Cross-Validation Score': 0.8375},\n",
      " {'MAE': 0.125},\n",
      " {'model': SVC(random_state=0)},\n",
      " {'num_support_vectors': 30}]\n",
      "\n",
      "Classifier: (0.1, 'svc', 'poly')\n",
      "Metrics:\n",
      "[{'Data Type': 'Test'},\n",
      " {'Total Precision (Accuracy)': 0.875},\n",
      " {'Precision': 0.765625},\n",
      " {'Recall': 0.875},\n",
      " {'F1-measure': 0.8166666666666667},\n",
      " {'Mean Cross-Validation Score': 0.825},\n",
      " {'MAE': 0.125},\n",
      " {'model': SVC(kernel='poly', random_state=0)},\n",
      " {'num_support_vectors': 29}]\n",
      "\n",
      "Classifier: (0.1, 'gridsearch', 'linear')\n",
      "Metrics:\n",
      "[{'Data Type': 'Test'},\n",
      " {'Total Precision (Accuracy)': 0.875},\n",
      " {'Precision': 0.765625},\n",
      " {'Recall': 0.875},\n",
      " {'F1-measure': 0.8166666666666667},\n",
      " {'Mean Cross-Validation Score': 0.825},\n",
      " {'MAE': 0.125},\n",
      " {'model': GridSearchCV(cv=5, estimator=SVC(kernel='linear'),\n",
      "             param_grid={'C': [0.01, 0.1, 1], 'gamma': [0.01, 0.1, 1],\n",
      "                         'kernel': ['linear', 'rbf', 'poly', 'sigmoid']})}]\n",
      "\n"
     ]
    }
   ],
   "source": [
    "sorted_keys = sorted(logs.keys(), key=lambda k: logs[k][1]['Total Precision (Accuracy)'], reverse=True)\n",
    "top_keys = sorted_keys[:4]\n",
    "top_classifiers = list(zip(top_keys, [logs[key] for key in top_keys]))\n",
    "top_models_obj = {}\n",
    "for key, values in top_classifiers:\n",
    "    top_models_obj.update({key: v for x in values for k, v in x.items() if k == 'model'})\n",
    "    print(\"Classifier:\", key)\n",
    "    print(\"Metrics:\")\n",
    "    pprint(values)\n",
    "    print()"
   ],
   "metadata": {
    "collapsed": false,
    "ExecuteTime": {
     "end_time": "2023-05-19T21:11:17.057880500Z",
     "start_time": "2023-05-19T21:11:17.042253600Z"
    }
   }
  }
 ]
}
