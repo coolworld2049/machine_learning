{
 "cells": [
  {
   "cell_type": "code",
   "execution_count": null,
   "metadata": {
    "collapsed": true
   },
   "outputs": [],
   "source": [
    "import numpy as np\n",
    "import pandas as pd\n",
    "import plotly.graph_objects as go\n",
    "import seaborn as sns\n",
    "from matplotlib import pyplot as plt\n",
    "from plotly.subplots import make_subplots\n",
    "from sklearn.model_selection import train_test_split"
   ]
  },
  {
   "cell_type": "code",
   "execution_count": null,
   "outputs": [],
   "source": [
    "df = pd.read_csv(\"../data/data.csv\")"
   ],
   "metadata": {
    "collapsed": false
   }
  },
  {
   "cell_type": "code",
   "execution_count": null,
   "outputs": [],
   "source": [
    "df.head(11)"
   ],
   "metadata": {
    "collapsed": false
   }
  },
  {
   "cell_type": "code",
   "execution_count": null,
   "outputs": [],
   "source": [
    "df.isna().any()"
   ],
   "metadata": {
    "collapsed": false
   }
  },
  {
   "cell_type": "code",
   "execution_count": null,
   "outputs": [],
   "source": [
    "df.shape"
   ],
   "metadata": {
    "collapsed": false
   }
  },
  {
   "cell_type": "code",
   "execution_count": null,
   "outputs": [],
   "source": [
    "df.nunique()"
   ],
   "metadata": {
    "collapsed": false
   }
  },
  {
   "cell_type": "code",
   "execution_count": null,
   "outputs": [],
   "source": [
    "df.info()"
   ],
   "metadata": {
    "collapsed": false
   }
  },
  {
   "cell_type": "code",
   "execution_count": null,
   "outputs": [],
   "source": [
    "df.describe()"
   ],
   "metadata": {
    "collapsed": false
   }
  },
  {
   "cell_type": "code",
   "execution_count": null,
   "outputs": [],
   "source": [
    "f, ax = plt.subplots(1, figsize=(8, 6))\n",
    "sns.heatmap(df.corr(), annot=True, ax=ax)"
   ],
   "metadata": {
    "collapsed": false
   }
  },
  {
   "cell_type": "markdown",
   "source": [
    "# GMDH model"
   ],
   "metadata": {
    "collapsed": false
   }
  },
  {
   "cell_type": "markdown",
   "source": [
    "![GMDH](../assets/Structure-of-the-GMDH-algorithm.jpg)"
   ],
   "metadata": {
    "collapsed": false
   }
  },
  {
   "cell_type": "code",
   "execution_count": null,
   "outputs": [],
   "source": [
    "\n",
    "class GMDH:\n",
    "    def __init__(self, max_layers=10, stopping_threshold=0.01):\n",
    "        self.max_layers = max_layers\n",
    "        self.stopping_threshold = stopping_threshold\n",
    "        self.layers = []\n",
    "        self.weights = []\n",
    "        self.performance = []\n",
    "\n",
    "    @staticmethod\n",
    "    def _add_bias(X):\n",
    "        ones_column = np.ones((len(X), 1))\n",
    "        return np.concatenate((ones_column, X), axis=1)\n",
    "\n",
    "    @staticmethod\n",
    "    def _calculate_performance(predictions, targets):\n",
    "        numerator = np.sum((predictions - targets) ** 2) # sum of squared forecast errors\n",
    "        denominator = np.sum((targets - np.mean(targets)) ** 2) # sum of squared errors of the target variable\n",
    "        return numerator / denominator\n",
    "\n",
    "    def fit(self, X, y):\n",
    "        X_augmented = self._add_bias(X)\n",
    "        y_reshaped = y.reshape(-1, 1)\n",
    "        current_layer = 0\n",
    "\n",
    "        while current_layer < self.max_layers:\n",
    "            weights = np.linalg.lstsq(X_augmented, y_reshaped, rcond=None)[0]\n",
    "            predictions = np.dot(X_augmented, weights)\n",
    "            performance = self._calculate_performance(predictions, y_reshaped)\n",
    "\n",
    "            if len(self.performance) > 0 and performance - self.performance[-1] < self.stopping_threshold:\n",
    "                break\n",
    "\n",
    "            self.layers.append(X_augmented)\n",
    "            self.weights.append(weights)\n",
    "            self.performance.append(performance)\n",
    "\n",
    "            X_augmented = np.concatenate((X_augmented, X_augmented ** 2), axis=1)\n",
    "            y_reshaped = y_reshaped - predictions\n",
    "            current_layer += 1\n",
    "\n",
    "    def predict(self, X):\n",
    "        X_augmented = self._add_bias(X)\n",
    "        pred = np.zeros(len(X)) # accumulation of partial forecasts\n",
    "\n",
    "        for layer, weights in zip(self.layers, self.weights):\n",
    "            partial_pred = np.dot(X_augmented, weights).ravel()\n",
    "            pred += partial_pred\n",
    "\n",
    "            X_augmented = np.concatenate((X_augmented, X_augmented ** 2), axis=1)\n",
    "\n",
    "        return pred\n"
   ],
   "metadata": {
    "collapsed": false
   }
  },
  {
   "cell_type": "markdown",
   "source": [
    "# Data separating"
   ],
   "metadata": {
    "collapsed": false
   }
  },
  {
   "cell_type": "code",
   "execution_count": null,
   "outputs": [],
   "source": [
    "df = df.to_numpy()\n",
    "X = df[:, 1:]  # Features\n",
    "y = df[:, 0]  # Target variable 'y'\n",
    "\n",
    "X_train, X_test, y_train, y_test = train_test_split(\n",
    "    X, y, test_size=0.2, random_state=42\n",
    ")"
   ],
   "metadata": {
    "collapsed": false
   }
  },
  {
   "cell_type": "code",
   "execution_count": null,
   "outputs": [],
   "source": [
    "len(X_train), len(X_test), len(y_train), len(y_test)"
   ],
   "metadata": {
    "collapsed": false
   }
  },
  {
   "cell_type": "markdown",
   "source": [
    "# Training"
   ],
   "metadata": {
    "collapsed": false
   }
  },
  {
   "cell_type": "code",
   "execution_count": null,
   "outputs": [],
   "source": [
    "gmdh = GMDH()\n",
    "gmdh.fit(X_train, y_train)"
   ],
   "metadata": {
    "collapsed": false
   }
  },
  {
   "cell_type": "markdown",
   "source": [
    "# Evaluate Model"
   ],
   "metadata": {
    "collapsed": false
   }
  },
  {
   "cell_type": "code",
   "execution_count": null,
   "outputs": [],
   "source": [
    "def get_merged(actual, pred):\n",
    "    d = {\"actual\": actual, \"pred\": pred}\n",
    "    merged = pd.DataFrame(d)\n",
    "    merged.reset_index(drop=True)\n",
    "    print(\"\\n\", merged.head())"
   ],
   "metadata": {
    "collapsed": false
   }
  },
  {
   "cell_type": "code",
   "execution_count": null,
   "outputs": [],
   "source": [
    "def average_approximation_error(actual, pred):\n",
    "    average_approximation_error = np.mean(np.abs(actual - pred))\n",
    "    print(\"Average Approximation Error:\", average_approximation_error)"
   ],
   "metadata": {
    "collapsed": false
   }
  },
  {
   "cell_type": "code",
   "execution_count": null,
   "outputs": [],
   "source": [
    "def prediction_plot(actual, pred, title=None, actual_name=None, pred_name=None):\n",
    "    fig = make_subplots(rows=1, cols=1)\n",
    "    tr1 = go.Scatter(\n",
    "        x=np.arange(len(actual)),\n",
    "        y=actual,\n",
    "        mode=\"lines+markers\",\n",
    "        name=actual_name,\n",
    "    )\n",
    "    tr2 = go.Scatter(\n",
    "        x=np.arange(len(pred)),\n",
    "        y=pred,\n",
    "        mode=\"lines+markers\",\n",
    "        name=pred_name,\n",
    "    )\n",
    "    fig.add_trace(tr1, row=1, col=1)\n",
    "    fig.append_trace(tr2, row=1, col=1)\n",
    "    fig.update_layout(title=title)\n",
    "    fig.show()"
   ],
   "metadata": {
    "collapsed": false
   }
  },
  {
   "cell_type": "code",
   "execution_count": null,
   "outputs": [],
   "source": [
    "def evaluate_model(X, y, title=None, actual_name=None, pred_name=None):\n",
    "    y_pred = gmdh.predict(X)\n",
    "    prediction_plot(\n",
    "        y, y_pred, title=title, actual_name=actual_name, pred_name=pred_name\n",
    "    )\n",
    "    average_approximation_error(y, y_pred)\n",
    "    get_merged(y, y_pred)"
   ],
   "metadata": {
    "collapsed": false
   }
  },
  {
   "cell_type": "code",
   "execution_count": null,
   "outputs": [],
   "source": [
    "evaluate_model(X_train, y_train, \"Train Data\", \"X_train\", \"y_train\")"
   ],
   "metadata": {
    "collapsed": false
   }
  },
  {
   "cell_type": "code",
   "execution_count": null,
   "outputs": [],
   "source": [
    "evaluate_model(X_test, y_test, \"Test Data\", \"X_test\", \"y_test\")"
   ],
   "metadata": {
    "collapsed": false
   }
  },
  {
   "cell_type": "code",
   "execution_count": null,
   "outputs": [],
   "source": [
    "gmdh.fit(X, y)\n",
    "evaluate_model(X, y, \"Initial Data\", \"X\", \"y\")"
   ],
   "metadata": {
    "collapsed": false
   }
  }
 ],
 "metadata": {
  "kernelspec": {
   "display_name": "Python 3",
   "language": "python",
   "name": "python3"
  },
  "language_info": {
   "codemirror_mode": {
    "name": "ipython",
    "version": 2
   },
   "file_extension": ".py",
   "mimetype": "text/x-python",
   "name": "python",
   "nbconvert_exporter": "python",
   "pygments_lexer": "ipython2",
   "version": "2.7.6"
  }
 },
 "nbformat": 4,
 "nbformat_minor": 0
}
