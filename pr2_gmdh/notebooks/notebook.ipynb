{
 "cells": [
  {
   "cell_type": "code",
   "execution_count": null,
   "metadata": {
    "collapsed": true
   },
   "outputs": [],
   "source": [
    "import numpy as np\n",
    "import pandas as pd\n",
    "import plotly.graph_objects as go\n",
    "import seaborn as sns\n",
    "from matplotlib import pyplot as plt\n",
    "from plotly.subplots import make_subplots\n",
    "from sklearn.model_selection import train_test_split"
   ]
  },
  {
   "cell_type": "code",
   "execution_count": 83,
   "outputs": [],
   "source": [
    "df = pd.read_csv(\"../data/data.csv\")"
   ],
   "metadata": {
    "collapsed": false,
    "ExecuteTime": {
     "end_time": "2023-05-19T08:59:25.320145500Z",
     "start_time": "2023-05-19T08:59:25.304120500Z"
    }
   }
  },
  {
   "cell_type": "code",
   "execution_count": 84,
   "outputs": [
    {
     "data": {
      "text/plain": "        y    x1    x2     x3    x4\n0   0.904  75.5  25.2   3343  77.0\n1   0.922  78.5  21.8   3001  78.2\n2   0.763  78.4  25.7   3101  68.0\n3   0.923  77.7  17.8   3543  77.2\n4   0.918  84.4  15.9   3237  77.2\n5   0.906  75.9  22.4   3330  77.2\n6   0.905  76.0  20.6   3808  75.7\n7   0.545  67.5  25.2   2415  62.6\n8   0.894  78.2  20.7   3295  78.0\n9   0.900  78.1  17.5   3504  78.2\n10  0.932  78.6  19.7  30565  79.0",
      "text/html": "<div>\n<style scoped>\n    .dataframe tbody tr th:only-of-type {\n        vertical-align: middle;\n    }\n\n    .dataframe tbody tr th {\n        vertical-align: top;\n    }\n\n    .dataframe thead th {\n        text-align: right;\n    }\n</style>\n<table border=\"1\" class=\"dataframe\">\n  <thead>\n    <tr style=\"text-align: right;\">\n      <th></th>\n      <th>y</th>\n      <th>x1</th>\n      <th>x2</th>\n      <th>x3</th>\n      <th>x4</th>\n    </tr>\n  </thead>\n  <tbody>\n    <tr>\n      <th>0</th>\n      <td>0.904</td>\n      <td>75.5</td>\n      <td>25.2</td>\n      <td>3343</td>\n      <td>77.0</td>\n    </tr>\n    <tr>\n      <th>1</th>\n      <td>0.922</td>\n      <td>78.5</td>\n      <td>21.8</td>\n      <td>3001</td>\n      <td>78.2</td>\n    </tr>\n    <tr>\n      <th>2</th>\n      <td>0.763</td>\n      <td>78.4</td>\n      <td>25.7</td>\n      <td>3101</td>\n      <td>68.0</td>\n    </tr>\n    <tr>\n      <th>3</th>\n      <td>0.923</td>\n      <td>77.7</td>\n      <td>17.8</td>\n      <td>3543</td>\n      <td>77.2</td>\n    </tr>\n    <tr>\n      <th>4</th>\n      <td>0.918</td>\n      <td>84.4</td>\n      <td>15.9</td>\n      <td>3237</td>\n      <td>77.2</td>\n    </tr>\n    <tr>\n      <th>5</th>\n      <td>0.906</td>\n      <td>75.9</td>\n      <td>22.4</td>\n      <td>3330</td>\n      <td>77.2</td>\n    </tr>\n    <tr>\n      <th>6</th>\n      <td>0.905</td>\n      <td>76.0</td>\n      <td>20.6</td>\n      <td>3808</td>\n      <td>75.7</td>\n    </tr>\n    <tr>\n      <th>7</th>\n      <td>0.545</td>\n      <td>67.5</td>\n      <td>25.2</td>\n      <td>2415</td>\n      <td>62.6</td>\n    </tr>\n    <tr>\n      <th>8</th>\n      <td>0.894</td>\n      <td>78.2</td>\n      <td>20.7</td>\n      <td>3295</td>\n      <td>78.0</td>\n    </tr>\n    <tr>\n      <th>9</th>\n      <td>0.900</td>\n      <td>78.1</td>\n      <td>17.5</td>\n      <td>3504</td>\n      <td>78.2</td>\n    </tr>\n    <tr>\n      <th>10</th>\n      <td>0.932</td>\n      <td>78.6</td>\n      <td>19.7</td>\n      <td>30565</td>\n      <td>79.0</td>\n    </tr>\n  </tbody>\n</table>\n</div>"
     },
     "execution_count": 84,
     "metadata": {},
     "output_type": "execute_result"
    }
   ],
   "source": [
    "df.head(11)"
   ],
   "metadata": {
    "collapsed": false,
    "ExecuteTime": {
     "end_time": "2023-05-19T08:59:26.573297700Z",
     "start_time": "2023-05-19T08:59:26.553131100Z"
    }
   }
  },
  {
   "cell_type": "code",
   "execution_count": null,
   "outputs": [],
   "source": [
    "df.isna().any()"
   ],
   "metadata": {
    "collapsed": false
   }
  },
  {
   "cell_type": "code",
   "execution_count": null,
   "outputs": [],
   "source": [
    "df.shape"
   ],
   "metadata": {
    "collapsed": false
   }
  },
  {
   "cell_type": "code",
   "execution_count": null,
   "outputs": [],
   "source": [
    "df.nunique()"
   ],
   "metadata": {
    "collapsed": false
   }
  },
  {
   "cell_type": "code",
   "execution_count": null,
   "outputs": [],
   "source": [
    "df.info()"
   ],
   "metadata": {
    "collapsed": false
   }
  },
  {
   "cell_type": "code",
   "execution_count": null,
   "outputs": [],
   "source": [
    "df.describe()"
   ],
   "metadata": {
    "collapsed": false
   }
  },
  {
   "cell_type": "code",
   "execution_count": null,
   "outputs": [],
   "source": [
    "f, ax = plt.subplots(1, figsize=(8, 6))\n",
    "sns.heatmap(df.corr(), annot=True, ax=ax)"
   ],
   "metadata": {
    "collapsed": false
   }
  },
  {
   "cell_type": "markdown",
   "source": [
    "# GMDH model"
   ],
   "metadata": {
    "collapsed": false
   }
  },
  {
   "cell_type": "markdown",
   "source": [
    "![GMDH](../assets/Structure-of-the-GMDH-algorithm.jpg)"
   ],
   "metadata": {
    "collapsed": false
   }
  },
  {
   "cell_type": "code",
   "execution_count": null,
   "outputs": [],
   "source": [
    "class GMDH:\n",
    "    def __init__(self, max_layers=10, stopping_threshold=0.01):\n",
    "        self.max_layers = max_layers\n",
    "        self.stopping_threshold = stopping_threshold\n",
    "        self.layers = []\n",
    "        self.w = []\n",
    "        self.rs = []\n",
    "\n",
    "    @staticmethod\n",
    "    def func(X_train):\n",
    "        return np.concatenate((np.ones((len(X_train), 1)), X_train), axis=1)\n",
    "\n",
    "    def fit(self, X_train, y_train):\n",
    "        curr_layer = 0\n",
    "        layer_in = self.func(X_train)\n",
    "        layer_out = y_train.reshape(-1, 1)\n",
    "        while curr_layer < self.max_layers:\n",
    "            w = np.linalg.lstsq(layer_in, layer_out, rcond=None)[0]\n",
    "            pred = np.dot(layer_in, w)\n",
    "            rs = np.sum(\n",
    "                (pred - layer_out) ** 2 / np.sum((layer_out - np.mean(layer_out)) ** 2)\n",
    "            )\n",
    "            if len(self.rs) > 0 and rs - self.rs[-1] < self.stopping_threshold:\n",
    "                break\n",
    "\n",
    "            self.layers.append(layer_in)\n",
    "            self.w.append(w)\n",
    "            self.rs.append(rs)\n",
    "            layer_in = np.concatenate((layer_in, layer_in**2), axis=1)\n",
    "            layer_out = layer_out - pred\n",
    "            curr_layer += 1\n",
    "\n",
    "    def predict(self, X_test):\n",
    "        layer_in = self.func(X_test)\n",
    "        pred = np.zeros((len(X_test),))\n",
    "\n",
    "        for _, w in zip(self.layers, self.w):\n",
    "            pred += np.dot(layer_in, w).ravel()\n",
    "            layer_in = np.concatenate((layer_in, layer_in**2), axis=1)\n",
    "        return pred"
   ],
   "metadata": {
    "collapsed": false
   }
  },
  {
   "cell_type": "markdown",
   "source": [
    "# Data separating"
   ],
   "metadata": {
    "collapsed": false
   }
  },
  {
   "cell_type": "code",
   "execution_count": null,
   "outputs": [],
   "source": [
    "df = df.to_numpy()\n",
    "X = df[:, 1:]  # Features\n",
    "y = df[:, 0]  # Target variable 'y'\n",
    "\n",
    "X_train, X_test, y_train, y_test = train_test_split(\n",
    "    X, y, test_size=0.2, random_state=42\n",
    ")"
   ],
   "metadata": {
    "collapsed": false
   }
  },
  {
   "cell_type": "code",
   "execution_count": null,
   "outputs": [],
   "source": [
    "len(X_train), len(X_test), len(y_train), len(y_test)"
   ],
   "metadata": {
    "collapsed": false
   }
  },
  {
   "cell_type": "markdown",
   "source": [
    "# Training"
   ],
   "metadata": {
    "collapsed": false
   }
  },
  {
   "cell_type": "code",
   "execution_count": null,
   "outputs": [],
   "source": [
    "gmdh = GMDH()\n",
    "gmdh.fit(X_train, y_train)"
   ],
   "metadata": {
    "collapsed": false
   }
  },
  {
   "cell_type": "markdown",
   "source": [
    "# Evaluate Model"
   ],
   "metadata": {
    "collapsed": false
   }
  },
  {
   "cell_type": "code",
   "execution_count": null,
   "outputs": [],
   "source": [
    "def get_merged(actual, pred):\n",
    "    d = {\"actual\": actual, \"pred\": pred}\n",
    "    merged = pd.DataFrame(d)\n",
    "    merged.reset_index(drop=True)\n",
    "    print(\"\\n\", merged.head())"
   ],
   "metadata": {
    "collapsed": false
   }
  },
  {
   "cell_type": "code",
   "execution_count": null,
   "outputs": [],
   "source": [
    "def average_approximation_error(actual, pred):\n",
    "    average_approximation_error = np.mean(np.abs(actual - pred))\n",
    "    print(\"Average Approximation Error:\", average_approximation_error)"
   ],
   "metadata": {
    "collapsed": false
   }
  },
  {
   "cell_type": "code",
   "execution_count": null,
   "outputs": [],
   "source": [
    "def prediction_plot(actual, pred, title=None, actual_name=None, pred_name=None):\n",
    "    fig = make_subplots(rows=1, cols=1)\n",
    "    tr1 = go.Scatter(\n",
    "        x=np.arange(len(actual)),\n",
    "        y=actual,\n",
    "        mode=\"lines+markers\",\n",
    "        name=actual_name,\n",
    "    )\n",
    "    tr2 = go.Scatter(\n",
    "        x=np.arange(len(pred)),\n",
    "        y=pred,\n",
    "        mode=\"lines+markers\",\n",
    "        name=pred_name,\n",
    "    )\n",
    "    fig.add_trace(tr1, row=1, col=1)\n",
    "    fig.append_trace(tr2, row=1, col=1)\n",
    "    fig.update_layout(title=title)\n",
    "    fig.show()"
   ],
   "metadata": {
    "collapsed": false
   }
  },
  {
   "cell_type": "code",
   "execution_count": null,
   "outputs": [],
   "source": [
    "def evaluate_model(X, y, title=None, actual_name=None, pred_name=None):\n",
    "    y_pred = gmdh.predict(X)\n",
    "    prediction_plot(\n",
    "        y, y_pred, title=title, actual_name=actual_name, pred_name=pred_name\n",
    "    )\n",
    "    average_approximation_error(y, y_pred)\n",
    "    get_merged(y, y_pred)"
   ],
   "metadata": {
    "collapsed": false
   }
  },
  {
   "cell_type": "code",
   "execution_count": null,
   "outputs": [],
   "source": [
    "evaluate_model(X_train, y_train, \"Train Data\", \"X_train\", \"y_train\")"
   ],
   "metadata": {
    "collapsed": false
   }
  },
  {
   "cell_type": "code",
   "execution_count": null,
   "outputs": [],
   "source": [
    "evaluate_model(X_test, y_test, \"Test Data\", \"X_test\", \"y_test\")"
   ],
   "metadata": {
    "collapsed": false
   }
  },
  {
   "cell_type": "code",
   "execution_count": null,
   "outputs": [],
   "source": [
    "gmdh.fit(X, y)\n",
    "evaluate_model(X, y, \"Initial Data\", \"X\", \"y\")"
   ],
   "metadata": {
    "collapsed": false
   }
  }
 ],
 "metadata": {
  "kernelspec": {
   "display_name": "Python 3",
   "language": "python",
   "name": "python3"
  },
  "language_info": {
   "codemirror_mode": {
    "name": "ipython",
    "version": 2
   },
   "file_extension": ".py",
   "mimetype": "text/x-python",
   "name": "python",
   "nbconvert_exporter": "python",
   "pygments_lexer": "ipython2",
   "version": "2.7.6"
  }
 },
 "nbformat": 4,
 "nbformat_minor": 0
}
