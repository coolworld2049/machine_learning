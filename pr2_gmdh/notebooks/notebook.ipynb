{
 "cells": [
  {
   "cell_type": "code",
   "execution_count": null,
   "metadata": {
    "collapsed": true
   },
   "outputs": [],
   "source": [
    "import pandas as pd\n",
    "import seaborn as sns\n",
    "from matplotlib import pyplot as plt\n"
   ]
  },
  {
   "cell_type": "code",
   "execution_count": null,
   "outputs": [],
   "source": [
    "df = pd.read_csv(\"../data/data.csv\")"
   ],
   "metadata": {
    "collapsed": false
   }
  },
  {
   "cell_type": "code",
   "execution_count": null,
   "outputs": [],
   "source": [
    "df.head(5)"
   ],
   "metadata": {
    "collapsed": false
   }
  },
  {
   "cell_type": "code",
   "execution_count": null,
   "outputs": [],
   "source": [
    "df.isna().any()"
   ],
   "metadata": {
    "collapsed": false
   }
  },
  {
   "cell_type": "code",
   "execution_count": null,
   "outputs": [],
   "source": [
    "df.shape"
   ],
   "metadata": {
    "collapsed": false
   }
  },
  {
   "cell_type": "code",
   "execution_count": null,
   "outputs": [],
   "source": [
    "df.nunique()"
   ],
   "metadata": {
    "collapsed": false
   }
  },
  {
   "cell_type": "code",
   "execution_count": null,
   "outputs": [],
   "source": [
    "df.info()"
   ],
   "metadata": {
    "collapsed": false
   }
  },
  {
   "cell_type": "code",
   "execution_count": null,
   "outputs": [],
   "source": [
    "df.describe()"
   ],
   "metadata": {
    "collapsed": false
   }
  },
  {
   "cell_type": "code",
   "execution_count": null,
   "outputs": [],
   "source": [
    "f, ax = plt.subplots(1, figsize=(8, 6))\n",
    "sns.heatmap(df.corr(), annot=True, ax=ax)"
   ],
   "metadata": {
    "collapsed": false
   }
  },
  {
   "cell_type": "markdown",
   "source": [
    "![GMDH](../assets/Structure-of-the-GMDH-algorithm.jpg)"
   ],
   "metadata": {
    "collapsed": false
   }
  },
  {
   "cell_type": "markdown",
   "source": [
    "https://www.researchgate.net/figure/Structure-of-the-GMDH-algorithm_fig1_331395382"
   ],
   "metadata": {
    "collapsed": false
   }
  },
  {
   "cell_type": "code",
   "execution_count": null,
   "outputs": [],
   "source": [
    "import numpy as np\n",
    "from sklearn.model_selection import train_test_split\n",
    "\n",
    "\n",
    "class GMDH:\n",
    "    def __init__(self, max_layers=10, stopping_threshold=0.01):\n",
    "        self.max_layers = max_layers\n",
    "        self.stopping_threshold = stopping_threshold\n",
    "        self.layers = []\n",
    "        self.w = []\n",
    "        self.rs = []\n",
    "\n",
    "    @staticmethod\n",
    "    def func(X_train):\n",
    "        return np.concatenate((np.ones((len(X_train), 1)), X_train), axis=1)\n",
    "\n",
    "    def fit(self, X_train, y_train):\n",
    "        curr_layer = 0\n",
    "        layer_in = self.func(X_train)\n",
    "        layer_out = y_train.reshape(-1, 1)\n",
    "        while curr_layer < self.max_layers:\n",
    "            w = np.linalg.lstsq(layer_in, layer_out, rcond=None)[0]\n",
    "            pred = np.dot(layer_in, w)\n",
    "            rs = np.sum((pred - layer_out) ** 2 / np.sum((layer_out - np.mean(layer_out)) ** 2))\n",
    "            if len(self.rs) > 0 and rs - self.rs[-1] < self.stopping_threshold:\n",
    "                break\n",
    "\n",
    "            self.layers.append(layer_in)\n",
    "            self.w.append(w)\n",
    "            self.rs.append(rs)\n",
    "            layer_in = np.concatenate((layer_in, layer_in ** 2), axis=1)\n",
    "            layer_out = layer_out - pred\n",
    "            curr_layer += 1\n",
    "\n",
    "    def predict(self, X_test):\n",
    "        layer_in = self.func(X_test)\n",
    "        pred = np.zeros((len(X_test),))\n",
    "\n",
    "        for _, w in zip(self.layers, self.w):\n",
    "            pred += np.dot(layer_in, w).ravel()\n",
    "            layer_in = np.concatenate((layer_in, layer_in ** 2), axis=1)\n",
    "        return pred\n"
   ],
   "metadata": {
    "collapsed": false
   }
  },
  {
   "cell_type": "code",
   "execution_count": null,
   "outputs": [],
   "source": [
    "df_copy = df.to_numpy().copy()\n",
    "df_copy = df_copy[:20]\n",
    "\n",
    "X = df_copy[:, 1:]  # Features\n",
    "y = df_copy[:, 0]  # Target variable\n",
    "X_train, X_test, y_train, y_test = train_test_split(X, y, test_size=0.4, random_state=42)"
   ],
   "metadata": {
    "collapsed": false
   }
  },
  {
   "cell_type": "code",
   "execution_count": null,
   "outputs": [],
   "source": [
    "gmdh = GMDH()\n",
    "gmdh.fit(X_train, y_train)\n",
    "y_pred = gmdh.predict(X_test)"
   ],
   "metadata": {
    "collapsed": false
   }
  },
  {
   "cell_type": "code",
   "execution_count": null,
   "outputs": [],
   "source": [
    "def average_approximation_error(actual, pred):\n",
    "    average_approximation_error = np.mean(np.abs(actual - pred))\n",
    "    print(\"Average Approximation Error:\", average_approximation_error)"
   ],
   "metadata": {
    "collapsed": false
   }
  },
  {
   "cell_type": "code",
   "execution_count": null,
   "outputs": [],
   "source": [
    "from plotly.subplots import make_subplots\n",
    "import plotly.graph_objects as go\n",
    "\n",
    "\n",
    "def pred_plot(actual, pred, title=None):\n",
    "    fig = make_subplots(rows=1, cols=1)\n",
    "    tr1 = go.Scatter(\n",
    "        x=np.arange(len(actual)), y=actual,\n",
    "        mode='lines+markers',\n",
    "        name=\"actual\",\n",
    "    )\n",
    "    tr2 = go.Scatter(\n",
    "        x=np.arange(len(pred)), y=pred,\n",
    "        mode='lines+markers',\n",
    "        name=\"pred\",\n",
    "    )\n",
    "    fig.add_trace(tr1, row=1, col=1)\n",
    "    fig.append_trace(tr2, row=1, col=1)\n",
    "    fig.layout.title = title\n",
    "    fig.show()"
   ],
   "metadata": {
    "collapsed": false
   }
  },
  {
   "cell_type": "code",
   "execution_count": null,
   "outputs": [],
   "source": [
    "pred_plot(y_test, y_pred, \"Test data\")"
   ],
   "metadata": {
    "collapsed": false
   }
  },
  {
   "cell_type": "code",
   "execution_count": null,
   "outputs": [],
   "source": [
    "average_approximation_error(y_test, y_pred)"
   ],
   "metadata": {
    "collapsed": false
   }
  },
  {
   "cell_type": "code",
   "execution_count": null,
   "outputs": [],
   "source": [
    "gmdh = GMDH()\n",
    "gmdh.fit(X, y)\n",
    "y_pred_2 = gmdh.predict(X)"
   ],
   "metadata": {
    "collapsed": false
   }
  },
  {
   "cell_type": "code",
   "execution_count": null,
   "outputs": [],
   "source": [
    "pred_plot(y, y_pred_2, \"Initial data\")"
   ],
   "metadata": {
    "collapsed": false
   }
  },
  {
   "cell_type": "code",
   "execution_count": null,
   "outputs": [],
   "source": [
    "average_approximation_error(y, y_pred_2)"
   ],
   "metadata": {
    "collapsed": false
   }
  }
 ],
 "metadata": {
  "kernelspec": {
   "display_name": "Python 3",
   "language": "python",
   "name": "python3"
  },
  "language_info": {
   "codemirror_mode": {
    "name": "ipython",
    "version": 2
   },
   "file_extension": ".py",
   "mimetype": "text/x-python",
   "name": "python",
   "nbconvert_exporter": "python",
   "pygments_lexer": "ipython2",
   "version": "2.7.6"
  }
 },
 "nbformat": 4,
 "nbformat_minor": 0
}
