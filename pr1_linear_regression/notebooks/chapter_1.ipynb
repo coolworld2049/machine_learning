{
 "cells": [
  {
   "cell_type": "markdown",
   "source": [
    "1. Ознакомьтесь с данными , приведенными в таблице 1.1, их графическим изображением на диаграмме 1 и выводом, сделанным на основе графического анализа.\n",
    "2. Самостоятельно сформируйте новые ряды исходных данных (показатели x, y, z) и занесите их в таблицу 1.2. Показатель x будем считать результирующим, а показатели y и z - факторными (причинными). По мере занесения данных в таблицу 2, на диаграмме 2 будет появляться их графическое изображение. Сделайте вывод на основе графического анализа по образцу.\n",
    "3. Рассчитайте (пользуясь таблицей 2.1. на листе 2) линейные коэффициенты корреляции между показателями x и y, а также между показателями x и z. Сделайте выводы о том, какая связь более сильная. Тот показатель (y или z), у которого связь с показателем x более сильная, выберите для дальнейших расчетов.\n",
    "4. Сделайте прогноз показателя x по двум вариантам уравнений тренда (линейному и квадратичному). Для расчета параметров уравнений тренда пользуйтесь вспомогательной таблицей на листе 3. Рассчитайте ошибки аппроксимации и сделайте вывод о том, какой прогноз более достоверен.\n",
    "5. Рассчитайте параметры уравнения парной линейной  регрессии, выражающей зависимость между показателем x и тем из двух показателей (y или z), с которым связь показателя x более сильная. Пользуйтесь вспомогательными таблицами на листах 4 и 5. Рассчитайте ошибку аппроксимации и индекс детерминации. Сделайте вывод о том, насколько хорошо построенное уравнение отражает существующую зависимость.\n",
    "6. Выполните (на листе 6) прогноз показателя, выбранного в п.3, по любому из уравнений тренда. Затем подставьте полученное прогнозное значение в уравнение регрессии между этим показателем и показателем x и рассчитайте прогноз спроса по уравнению регрессии."
   ],
   "metadata": {
    "collapsed": false
   }
  },
  {
   "cell_type": "code",
   "execution_count": null,
   "outputs": [],
   "source": [
    "import pandas as pd\n",
    "import plotly.express as px\n",
    "import seaborn as sns\n",
    "from matplotlib import pyplot as plt"
   ],
   "metadata": {
    "collapsed": false
   }
  },
  {
   "cell_type": "code",
   "execution_count": null,
   "outputs": [],
   "source": [
    "df = pd.read_csv(\"../data/chapter_1.csv\", delimiter=\";\")\n",
    "df.head(5)"
   ],
   "metadata": {
    "collapsed": false
   }
  },
  {
   "cell_type": "code",
   "execution_count": null,
   "outputs": [],
   "source": [
    "df.info()"
   ],
   "metadata": {
    "collapsed": false
   }
  },
  {
   "cell_type": "code",
   "execution_count": null,
   "outputs": [],
   "source": [
    "df.describe()"
   ],
   "metadata": {
    "collapsed": false
   }
  },
  {
   "cell_type": "markdown",
   "source": [
    "# Task 3\n",
    "---\n",
    "Рассчитайте (пользуясь таблицей 2.1. на листе 2) линейные коэффициенты корреляции между показателями x и y,\n",
    "а также между показателями x и z. Сделайте выводы о том, какая связь более сильная.\n",
    "Тот показатель (y или z), у которого связь с показателем x более сильная, выберите для дальнейших расчетов."
   ],
   "metadata": {
    "collapsed": false
   }
  },
  {
   "cell_type": "code",
   "execution_count": null,
   "outputs": [],
   "source": [
    "plt.title(\"Linear correlation\")\n",
    "sns.heatmap(df.corr(), annot=True, fmt=\".2f\", cmap=\"coolwarm\")"
   ],
   "metadata": {
    "collapsed": false
   }
  },
  {
   "cell_type": "code",
   "execution_count": null,
   "outputs": [],
   "source": [
    "x_demand_y_produced = px.scatter(\n",
    "    df,\n",
    "    x=df.x_demand,\n",
    "    y=df.y_produced,\n",
    "    trendline=\"lowess\",\n",
    "    trendline_options=dict(frac=0.1),\n",
    ")\n",
    "x_demand_y_produced.show()\n",
    "x_demand_z_price = px.scatter(\n",
    "    df,\n",
    "    x=df.x_demand,\n",
    "    y=df.z_price,\n",
    "    trendline=\"lowess\",\n",
    "    trendline_options=dict(frac=0.1),\n",
    ")\n",
    "x_demand_z_price.show()"
   ],
   "metadata": {
    "collapsed": false
   }
  },
  {
   "cell_type": "markdown",
   "source": [
    "# Task 4\n",
    "---\n",
    "Сделайте прогноз показателя x по двум вариантам уравнений тренда (линейному и квадратичному).\n",
    "Для расчета параметров уравнений тренда пользуйтесь вспомогательной таблицей на листе 3.\n",
    "Рассчитайте ошибки аппроксимации и сделайте вывод о том, какой прогноз более достоверен."
   ],
   "metadata": {
    "collapsed": false
   }
  },
  {
   "cell_type": "markdown",
   "source": [
    "### Linear trend"
   ],
   "metadata": {
    "collapsed": false
   }
  },
  {
   "cell_type": "code",
   "execution_count": null,
   "outputs": [],
   "source": [
    "import numpy as np\n",
    "\n",
    "period = df[\"period\"].to_numpy()\n",
    "x_demand = df[\"x_demand\"].to_numpy()\n",
    "y_produced = df[\"y_produced\"].to_numpy()\n",
    "z_price = df[\"z_price\"].to_numpy()\n",
    "\n",
    "future_period = np.array([[x] for x in range(2022, 2032)])"
   ],
   "metadata": {
    "collapsed": false
   }
  },
  {
   "cell_type": "code",
   "execution_count": null,
   "outputs": [],
   "source": [
    "from pathlib import Path\n",
    "\n",
    "Path(\"../images\").mkdir(exist_ok=True)"
   ],
   "metadata": {
    "collapsed": false
   }
  },
  {
   "cell_type": "code",
   "execution_count": null,
   "outputs": [],
   "source": [
    "import plotly.graph_objects as go\n",
    "from sklearn.linear_model import LinearRegression\n",
    "from sklearn.model_selection import train_test_split\n",
    "\n",
    "(\n",
    "    period_train,\n",
    "    period_test,\n",
    "    x_demand_train,\n",
    "    x_demand_test,\n",
    "    y_produced_train,\n",
    "    y_produced_test,\n",
    "    z_price_train,\n",
    "    z_price_test,\n",
    ") = train_test_split(\n",
    "    period, x_demand, y_produced, z_price, test_size=0.2, random_state=42\n",
    ")\n",
    "\n",
    "linear_reg_demand = LinearRegression()\n",
    "linear_reg_demand.fit(period_train.reshape(-1, 1), x_demand_train.reshape(-1, 1))\n",
    "x_demand_prediction = linear_reg_demand.predict(future_period)\n",
    "\n",
    "linear_reg_produced = LinearRegression()\n",
    "linear_reg_produced.fit(period_train.reshape(-1, 1), y_produced_train.reshape(-1, 1))\n",
    "y_produced_prediction = linear_reg_produced.predict(future_period)\n",
    "\n",
    "linear_reg_price = LinearRegression()\n",
    "linear_reg_price.fit(period_train.reshape(-1, 1), z_price_train.reshape(-1, 1))\n",
    "z_price_prediction = linear_reg_price.predict(future_period)\n",
    "\n",
    "x_demand_trace = go.Scatter(\n",
    "    x=period, y=x_demand, mode=\"markers\", name=\"Actual Data: x_demand\"\n",
    ")\n",
    "y_produced_trace = go.Scatter(\n",
    "    x=period, y=y_produced, mode=\"markers\", name=\"Actual Data: y_produced\"\n",
    ")\n",
    "z_price_trace = go.Scatter(\n",
    "    x=period, y=z_price, mode=\"markers\", name=\"Actual Data: z_price\"\n",
    ")\n",
    "\n",
    "x_demand_reg_trace = go.Scatter(\n",
    "    x=period_train,\n",
    "    y=linear_reg_demand.predict(period_train.reshape(-1, 1)).flatten(),\n",
    "    mode=\"lines\",\n",
    "    name=\"^ Regression: x_demand\",\n",
    ")\n",
    "y_produced_reg_trace = go.Scatter(\n",
    "    x=period_train,\n",
    "    y=linear_reg_produced.predict(period_train.reshape(-1, 1)).flatten(),\n",
    "    mode=\"lines\",\n",
    "    name=\"^ Regression: y_produced\",\n",
    ")\n",
    "z_price_reg_trace = go.Scatter(\n",
    "    x=period_train,\n",
    "    y=linear_reg_price.predict(period_train.reshape(-1, 1)).flatten(),\n",
    "    mode=\"lines\",\n",
    "    name=\"^ Regression: z_price\",\n",
    ")\n",
    "\n",
    "x_demand_pred_trace = go.Scatter(\n",
    "    x=future_period.flatten(),\n",
    "    y=x_demand_prediction.flatten(),\n",
    "    mode=\"markers\",\n",
    "    name=\"^ Prediction: x_demand\",\n",
    ")\n",
    "y_produced_pred_trace = go.Scatter(\n",
    "    x=future_period.flatten(),\n",
    "    y=y_produced_prediction.flatten(),\n",
    "    mode=\"markers\",\n",
    "    name=\"^ Prediction: y_produced\",\n",
    ")\n",
    "z_price_pred_trace = go.Scatter(\n",
    "    x=future_period.flatten(),\n",
    "    y=z_price_prediction.flatten(),\n",
    "    mode=\"markers\",\n",
    "    name=\"^ Prediction: z_price\",\n",
    ")\n",
    "\n",
    "layout = go.Layout(\n",
    "    title=\"^ Regression Predictions\",\n",
    "    xaxis=dict(title=\"Period\"),\n",
    "    yaxis=dict(title=\"Value\"),\n",
    ")\n",
    "\n",
    "fig = go.Figure(\n",
    "    data=[\n",
    "        x_demand_trace,\n",
    "        y_produced_trace,\n",
    "        z_price_trace,\n",
    "        x_demand_reg_trace,\n",
    "        y_produced_reg_trace,\n",
    "        z_price_reg_trace,\n",
    "        x_demand_pred_trace,\n",
    "        y_produced_pred_trace,\n",
    "        z_price_pred_trace,\n",
    "    ],\n",
    "    layout=layout,\n",
    ")\n",
    "fig.show()"
   ],
   "metadata": {
    "collapsed": false
   }
  },
  {
   "cell_type": "code",
   "execution_count": null,
   "outputs": [],
   "source": [
    "print(\"x_demand_prediction\\n\", x_demand_prediction)\n",
    "print(\"z_price_prediction\\n\", z_price_prediction)"
   ],
   "metadata": {
    "collapsed": false
   }
  },
  {
   "cell_type": "code",
   "execution_count": null,
   "outputs": [],
   "source": [
    "from sklearn.metrics import mean_absolute_error\n",
    "\n",
    "print(\n",
    "    \"MAE x_demand: \"\n",
    "    + str(mean_absolute_error(x_demand.reshape(-1, 1), x_demand_prediction))\n",
    ")\n",
    "print(\n",
    "    \"MAE z_price: \"\n",
    "    + str(mean_absolute_error(z_price.reshape(-1, 1), z_price_prediction))\n",
    ")"
   ],
   "metadata": {
    "collapsed": false
   }
  },
  {
   "cell_type": "markdown",
   "source": [
    "### Quadratic trend"
   ],
   "metadata": {
    "collapsed": false
   }
  },
  {
   "cell_type": "code",
   "execution_count": null,
   "outputs": [],
   "source": [
    "import plotly.graph_objects as go\n",
    "from sklearn.preprocessing import PolynomialFeatures\n",
    "\n",
    "polynomial_features = PolynomialFeatures(degree=2)\n",
    "\n",
    "\n",
    "def quadratic_regression(future_period, target_variable):\n",
    "    period_reshaped = period.reshape(-1, 1)\n",
    "    target_variable_reshaped = target_variable.reshape(-1, 1)\n",
    "\n",
    "    period_poly = polynomial_features.fit_transform(period_reshaped)\n",
    "\n",
    "    quadratic_reg = LinearRegression()\n",
    "    quadratic_reg.fit(period_poly, target_variable_reshaped)\n",
    "\n",
    "    future_period_poly = polynomial_features.transform(future_period)\n",
    "    target_prediction = quadratic_reg.predict(future_period_poly)\n",
    "\n",
    "    return quadratic_reg, target_prediction\n",
    "\n",
    "\n",
    "quadratic_reg_x_demand, x_demand_prediction = quadratic_regression(\n",
    "    future_period, x_demand\n",
    ")\n",
    "quadratic_reg_y_produced, y_produced_prediction = quadratic_regression(\n",
    "    future_period, y_produced\n",
    ")\n",
    "quadratic_reg_z_price, z_price_prediction = quadratic_regression(future_period, z_price)\n",
    "\n",
    "x_demand_trace = go.Scatter(\n",
    "    x=period, y=x_demand, mode=\"markers\", name=\"Actual Data: x_demand\"\n",
    ")\n",
    "y_produced_trace = go.Scatter(\n",
    "    x=period, y=y_produced, mode=\"markers\", name=\"Actual Data: y_produced\"\n",
    ")\n",
    "z_price_trace = go.Scatter(\n",
    "    x=period, y=z_price, mode=\"markers\", name=\"Actual Data: z_price\"\n",
    ")\n",
    "\n",
    "x_demand_reg_trace = go.Scatter(\n",
    "    x=period,\n",
    "    y=quadratic_reg_x_demand.predict(\n",
    "        polynomial_features.transform(period.reshape(-1, 1))\n",
    "    ),\n",
    "    mode=\"lines\",\n",
    "    name=\"^^ Regression: x_demand\",\n",
    ")\n",
    "y_produced_reg_trace = go.Scatter(\n",
    "    x=period,\n",
    "    y=quadratic_reg_y_produced.predict(\n",
    "        polynomial_features.transform(period.reshape(-1, 1))\n",
    "    ),\n",
    "    mode=\"lines\",\n",
    "    name=\"^^ Regression: y_produced\",\n",
    ")\n",
    "z_price_reg_trace = go.Scatter(\n",
    "    x=period,\n",
    "    y=quadratic_reg_z_price.predict(\n",
    "        polynomial_features.transform(period.reshape(-1, 1))\n",
    "    ),\n",
    "    mode=\"lines\",\n",
    "    name=\"^^ Regression: z_price\",\n",
    ")\n",
    "\n",
    "x_demand_pred_trace = go.Scatter(\n",
    "    x=future_period.flatten(),\n",
    "    y=x_demand_prediction.flatten(),\n",
    "    mode=\"markers\",\n",
    "    name=\"^^ Prediction: x_demand\",\n",
    ")\n",
    "y_produced_pred_trace = go.Scatter(\n",
    "    x=future_period.flatten(),\n",
    "    y=y_produced_prediction.flatten(),\n",
    "    mode=\"markers\",\n",
    "    name=\"^^ Prediction: y_produced\",\n",
    ")\n",
    "z_price_pred_trace = go.Scatter(\n",
    "    x=future_period.flatten(),\n",
    "    y=z_price_prediction.flatten(),\n",
    "    mode=\"markers\",\n",
    "    name=\"^^ Prediction: z_price\",\n",
    ")\n",
    "\n",
    "layout = go.Layout(\n",
    "    title=\"^^ Regression Predictions\",\n",
    "    xaxis=dict(title=\"Period\"),\n",
    "    yaxis=dict(title=\"Value\"),\n",
    ")\n",
    "\n",
    "fig = go.Figure(\n",
    "    data=[\n",
    "        x_demand_trace,\n",
    "        y_produced_trace,\n",
    "        z_price_trace,\n",
    "        x_demand_reg_trace,\n",
    "        y_produced_reg_trace,\n",
    "        z_price_reg_trace,\n",
    "        x_demand_pred_trace,\n",
    "        y_produced_pred_trace,\n",
    "        z_price_pred_trace,\n",
    "    ]\n",
    ")\n",
    "fig.update_layout(title=\"^^ Regression\", xaxis_title=\"Year\", yaxis_title=\"Value\")\n",
    "\n",
    "fig.show()"
   ],
   "metadata": {
    "collapsed": false
   }
  },
  {
   "cell_type": "code",
   "execution_count": null,
   "outputs": [],
   "source": [
    "print(\"x_demand_prediction\\n\", x_demand_prediction)\n",
    "print(\"z_price_prediction\\n\", z_price_prediction)"
   ],
   "metadata": {
    "collapsed": false
   }
  },
  {
   "cell_type": "code",
   "execution_count": null,
   "outputs": [],
   "source": [
    "from sklearn.metrics import mean_absolute_error\n",
    "\n",
    "print(\"MAE: \" + str(mean_absolute_error(x_demand.reshape(-1, 1), x_demand_prediction)))"
   ],
   "metadata": {
    "collapsed": false
   }
  },
  {
   "cell_type": "markdown",
   "source": [
    "### Linear regression vs Quadratic regression"
   ],
   "metadata": {
    "collapsed": false
   }
  },
  {
   "cell_type": "code",
   "execution_count": null,
   "outputs": [],
   "source": [
    "import numpy as np\n",
    "import plotly.graph_objects as go\n",
    "from sklearn.preprocessing import PolynomialFeatures\n",
    "from sklearn.linear_model import LinearRegression\n",
    "\n",
    "period_reshaped = np.array([[x] for x in range(2022, 2030)])\n",
    "\n",
    "# Linear regression\n",
    "linear_reg = LinearRegression()\n",
    "linear_reg.fit(period.reshape(-1, 1), x_demand)\n",
    "linear_x_demand_prediction = linear_reg.predict(period_reshaped)\n",
    "\n",
    "# Quadratic regression\n",
    "quadratic_features = PolynomialFeatures(degree=2)\n",
    "period_poly = quadratic_features.fit_transform(period.reshape(-1, 1))\n",
    "quadratic_reg = LinearRegression()\n",
    "quadratic_reg.fit(period_poly, x_demand)\n",
    "quadratic_x_demand_prediction = quadratic_reg.predict(\n",
    "    quadratic_features.transform(period_reshaped)\n",
    ")\n",
    "\n",
    "# Create plotly traces\n",
    "linear_trace = go.Scatter(x=period, y=x_demand, mode=\"markers\", name=\"Actual Data\")\n",
    "\n",
    "linear_prediction_trace = go.Scatter(\n",
    "    x=period_reshaped.flatten(),\n",
    "    y=linear_x_demand_prediction,\n",
    "    mode=\"lines\",\n",
    "    name=\"Linear Regression Prediction\",\n",
    ")\n",
    "\n",
    "quadratic_trace = go.Scatter(x=period, y=x_demand, mode=\"markers\", name=\"Actual Data\")\n",
    "\n",
    "quadratic_prediction_trace = go.Scatter(\n",
    "    x=period_reshaped.flatten(),\n",
    "    y=quadratic_x_demand_prediction,\n",
    "    mode=\"lines\",\n",
    "    name=\"Quadratic Regression Prediction\",\n",
    ")\n",
    "\n",
    "# Create the figure\n",
    "fig = go.Figure(\n",
    "    data=[\n",
    "        linear_trace,\n",
    "        linear_prediction_trace,\n",
    "        quadratic_trace,\n",
    "        quadratic_prediction_trace,\n",
    "    ]\n",
    ")\n",
    "\n",
    "# Add layout information\n",
    "fig.update_layout(\n",
    "    title=\"Linear vs Quadratic Regression\", xaxis_title=\"Year\", yaxis_title=\"x_demand\"\n",
    ")\n",
    "\n",
    "# Show the plot\n",
    "fig.show()"
   ],
   "metadata": {
    "collapsed": false
   }
  }
 ],
 "metadata": {
  "kernelspec": {
   "display_name": "Python 3",
   "language": "python",
   "name": "python3"
  },
  "language_info": {
   "codemirror_mode": {
    "name": "ipython",
    "version": 2
   },
   "file_extension": ".py",
   "mimetype": "text/x-python",
   "name": "python",
   "nbconvert_exporter": "python",
   "pygments_lexer": "ipython2",
   "version": "2.7.6"
  }
 },
 "nbformat": 4,
 "nbformat_minor": 0
}
