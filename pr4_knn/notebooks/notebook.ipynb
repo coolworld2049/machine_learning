{
 "metadata": {
  "kernelspec": {
   "language": "python",
   "display_name": "Python 3",
   "name": "python3"
  },
  "language_info": {
   "pygments_lexer": "ipython3",
   "nbconvert_exporter": "python",
   "version": "3.6.4",
   "file_extension": ".py",
   "codemirror_mode": {
    "name": "ipython",
    "version": 3
   },
   "name": "python",
   "mimetype": "text/x-python"
  }
 },
 "nbformat_minor": 4,
 "nbformat": 4,
 "cells": [
  {
   "cell_type": "code",
   "execution_count": 1,
   "outputs": [],
   "source": [
    "import numpy as np  # noqa\n",
    "import pandas as pd\n",
    "from sklearn import datasets\n",
    "from sklearn.model_selection import train_test_split"
   ],
   "metadata": {
    "collapsed": false
   }
  },
  {
   "cell_type": "code",
   "execution_count": 2,
   "outputs": [],
   "source": [
    "iris = datasets.load_iris()\n",
    "df = pd.DataFrame(\n",
    "    data=np.c_[iris[\"data\"], iris[\"target\"]], columns=iris[\"feature_names\"] + [\"target\"]\n",
    ")"
   ],
   "metadata": {
    "collapsed": false
   }
  },
  {
   "cell_type": "code",
   "execution_count": 3,
   "outputs": [
    {
     "data": {
      "text/plain": "   sepal length (cm)  sepal width (cm)  petal length (cm)  petal width (cm)  \\\n0                5.1               3.5                1.4               0.2   \n1                4.9               3.0                1.4               0.2   \n2                4.7               3.2                1.3               0.2   \n3                4.6               3.1                1.5               0.2   \n4                5.0               3.6                1.4               0.2   \n\n   target  \n0     0.0  \n1     0.0  \n2     0.0  \n3     0.0  \n4     0.0  ",
      "text/html": "<div>\n<style scoped>\n    .dataframe tbody tr th:only-of-type {\n        vertical-align: middle;\n    }\n\n    .dataframe tbody tr th {\n        vertical-align: top;\n    }\n\n    .dataframe thead th {\n        text-align: right;\n    }\n</style>\n<table border=\"1\" class=\"dataframe\">\n  <thead>\n    <tr style=\"text-align: right;\">\n      <th></th>\n      <th>sepal length (cm)</th>\n      <th>sepal width (cm)</th>\n      <th>petal length (cm)</th>\n      <th>petal width (cm)</th>\n      <th>target</th>\n    </tr>\n  </thead>\n  <tbody>\n    <tr>\n      <th>0</th>\n      <td>5.1</td>\n      <td>3.5</td>\n      <td>1.4</td>\n      <td>0.2</td>\n      <td>0.0</td>\n    </tr>\n    <tr>\n      <th>1</th>\n      <td>4.9</td>\n      <td>3.0</td>\n      <td>1.4</td>\n      <td>0.2</td>\n      <td>0.0</td>\n    </tr>\n    <tr>\n      <th>2</th>\n      <td>4.7</td>\n      <td>3.2</td>\n      <td>1.3</td>\n      <td>0.2</td>\n      <td>0.0</td>\n    </tr>\n    <tr>\n      <th>3</th>\n      <td>4.6</td>\n      <td>3.1</td>\n      <td>1.5</td>\n      <td>0.2</td>\n      <td>0.0</td>\n    </tr>\n    <tr>\n      <th>4</th>\n      <td>5.0</td>\n      <td>3.6</td>\n      <td>1.4</td>\n      <td>0.2</td>\n      <td>0.0</td>\n    </tr>\n  </tbody>\n</table>\n</div>"
     },
     "execution_count": 3,
     "metadata": {},
     "output_type": "execute_result"
    }
   ],
   "source": [
    "df.head()"
   ],
   "metadata": {
    "collapsed": false
   }
  },
  {
   "cell_type": "markdown",
   "source": [
    "# Data Separation"
   ],
   "metadata": {
    "collapsed": false
   }
  },
  {
   "cell_type": "code",
   "execution_count": 4,
   "outputs": [],
   "source": [
    "X = iris.data\n",
    "y = iris.target"
   ],
   "metadata": {
    "collapsed": false
   }
  },
  {
   "cell_type": "code",
   "execution_count": 5,
   "outputs": [],
   "source": [
    "X_train, X_test, y_train, y_test = train_test_split(\n",
    "    X, y, test_size=0.3, random_state=42\n",
    ")"
   ],
   "metadata": {
    "collapsed": false
   }
  },
  {
   "cell_type": "code",
   "execution_count": 6,
   "outputs": [
    {
     "name": "stdout",
     "output_type": "stream",
     "text": [
      "Top 1 Classifier: Ratio=0.8, Distance=euclidean, k=5, Voting=uniform, Accuracy=1.0000\n",
      "Top 2 Classifier: Ratio=0.8, Distance=euclidean, k=5, Voting=distance, Accuracy=1.0000\n",
      "Top 3 Classifier: Ratio=0.8, Distance=manhattan, k=5, Voting=distance, Accuracy=1.0000\n"
     ]
    }
   ],
   "source": [
    "from sklearn.model_selection import train_test_split\n",
    "from sklearn.neighbors import KNeighborsClassifier\n",
    "from sklearn.metrics import accuracy_score, classification_report\n",
    "\n",
    "# Define different ratios of training and test samples\n",
    "ratios = [0.7, 0.8, 0.9]\n",
    "\n",
    "# Define different distance estimation methods\n",
    "distance_methods = [\"euclidean\", \"manhattan\"]\n",
    "\n",
    "# Define different values of k (multiplicity)\n",
    "k_values = [3, 5, 7]\n",
    "\n",
    "# Define different voting options\n",
    "voting_options = [\"uniform\", \"distance\"]\n",
    "\n",
    "# Initialize a dictionary to store the accuracy of trained classifiers\n",
    "classifier_accuracies = {}\n",
    "\n",
    "# Loop over different ratios\n",
    "for ratio in ratios:\n",
    "    # Split the dataset into training and test sets\n",
    "    X_train, X_test, y_train, y_test = train_test_split(X, y, test_size=1 - ratio)\n",
    "\n",
    "    # Loop over different distance estimation methods\n",
    "    for distance_method in distance_methods:\n",
    "        # Loop over different values of k\n",
    "        for k in k_values:\n",
    "            # Loop over different voting options\n",
    "            for voting_option in voting_options:\n",
    "                # Initialize and train the kNN classifier\n",
    "                knn = KNeighborsClassifier(\n",
    "                    n_neighbors=k, weights=voting_option, metric=distance_method\n",
    "                )\n",
    "                knn.fit(X_train, y_train)\n",
    "\n",
    "                # Predict the labels for the test set\n",
    "                y_pred = knn.predict(X_test)\n",
    "\n",
    "                # Calculate the accuracy of the classifier\n",
    "                accuracy = accuracy_score(y_test, y_pred)\n",
    "                clf_report = classification_report(y_test, y_pred)\n",
    "                # Store the accuracy in the dictionary\n",
    "                classifier_accuracies[\n",
    "                    (\n",
    "                        ratio,\n",
    "                        distance_method,\n",
    "                        k,\n",
    "                        voting_option,\n",
    "                    )\n",
    "                ] = accuracy\n",
    "\n",
    "# Sort the classifiers based on accuracy in descending order\n",
    "top_classifiers = sorted(\n",
    "    classifier_accuracies.items(), key=lambda x: x[1], reverse=True\n",
    ")[:3]\n",
    "\n",
    "# Print the top three classifiers and their accuracies\n",
    "for i, (params, accuracy) in enumerate(top_classifiers):\n",
    "    ratio, distance_method, k, voting_option = params\n",
    "    print(\n",
    "        f\"Top {i + 1} Classifier: Ratio={ratio}, Distance={distance_method}, k={k}, Voting={voting_option}, Accuracy={accuracy:.4f}\"\n",
    "    )"
   ],
   "metadata": {
    "collapsed": false
   }
  }
 ]
}
