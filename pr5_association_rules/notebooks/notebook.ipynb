{
 "cells": [
  {
   "cell_type": "code",
   "execution_count": 108,
   "outputs": [],
   "source": [
    "import random\n",
    "\n",
    "import numpy as np  # noqa\n",
    "import pandas as pd\n",
    "import plotly.express as px  # noqa\n",
    "from mlxtend.frequent_patterns import apriori\n",
    "from mlxtend.frequent_patterns import association_rules\n",
    "from mlxtend.preprocessing import TransactionEncoder"
   ],
   "metadata": {
    "collapsed": false,
    "ExecuteTime": {
     "end_time": "2023-05-20T13:56:36.500003400Z",
     "start_time": "2023-05-20T13:56:36.442583Z"
    }
   }
  },
  {
   "cell_type": "code",
   "execution_count": 109,
   "outputs": [],
   "source": [
    "df = pd.read_csv(\"../data/supermarket.group.csv\")\n",
    "# df['Product'] = [x.split(';') for x in df['Product']]\n",
    "# df.to_csv(\"../data/supermarket_new.csv\", index=False)"
   ],
   "metadata": {
    "collapsed": false,
    "ExecuteTime": {
     "end_time": "2023-05-20T13:56:36.545309100Z",
     "start_time": "2023-05-20T13:56:36.454834700Z"
    }
   }
  },
  {
   "cell_type": "code",
   "execution_count": 110,
   "outputs": [
    {
     "data": {
      "text/plain": "   TransactionID                                            Product\n0         160698   ['ketchups', 'sauces', 'adjika', 'pasta', 'tea']\n1         160747                          ['pasta', 'honey', 'tea']\n2         161217  ['ketchups', 'sauces', 'adjika', 'pasta', 'che...\n3         161243  ['ketchups', 'sauces', 'adjika', 'pasta', 'che...\n4         161354   ['ketchups', 'sauces', 'adjika', 'pasta', 'tea']",
      "text/html": "<div>\n<style scoped>\n    .dataframe tbody tr th:only-of-type {\n        vertical-align: middle;\n    }\n\n    .dataframe tbody tr th {\n        vertical-align: top;\n    }\n\n    .dataframe thead th {\n        text-align: right;\n    }\n</style>\n<table border=\"1\" class=\"dataframe\">\n  <thead>\n    <tr style=\"text-align: right;\">\n      <th></th>\n      <th>TransactionID</th>\n      <th>Product</th>\n    </tr>\n  </thead>\n  <tbody>\n    <tr>\n      <th>0</th>\n      <td>160698</td>\n      <td>['ketchups', 'sauces', 'adjika', 'pasta', 'tea']</td>\n    </tr>\n    <tr>\n      <th>1</th>\n      <td>160747</td>\n      <td>['pasta', 'honey', 'tea']</td>\n    </tr>\n    <tr>\n      <th>2</th>\n      <td>161217</td>\n      <td>['ketchups', 'sauces', 'adjika', 'pasta', 'che...</td>\n    </tr>\n    <tr>\n      <th>3</th>\n      <td>161243</td>\n      <td>['ketchups', 'sauces', 'adjika', 'pasta', 'che...</td>\n    </tr>\n    <tr>\n      <th>4</th>\n      <td>161354</td>\n      <td>['ketchups', 'sauces', 'adjika', 'pasta', 'tea']</td>\n    </tr>\n  </tbody>\n</table>\n</div>"
     },
     "execution_count": 110,
     "metadata": {},
     "output_type": "execute_result"
    }
   ],
   "source": [
    "df.head()"
   ],
   "metadata": {
    "collapsed": false,
    "ExecuteTime": {
     "end_time": "2023-05-20T13:56:36.545309100Z",
     "start_time": "2023-05-20T13:56:36.474251500Z"
    }
   }
  },
  {
   "cell_type": "code",
   "execution_count": 111,
   "outputs": [
    {
     "name": "stdout",
     "output_type": "stream",
     "text": [
      "<class 'pandas.core.frame.DataFrame'>\n",
      "RangeIndex: 44 entries, 0 to 43\n",
      "Data columns (total 2 columns):\n",
      " #   Column         Non-Null Count  Dtype \n",
      "---  ------         --------------  ----- \n",
      " 0   TransactionID  44 non-null     int64 \n",
      " 1   Product        44 non-null     object\n",
      "dtypes: int64(1), object(1)\n",
      "memory usage: 832.0+ bytes\n"
     ]
    }
   ],
   "source": [
    "df.info()"
   ],
   "metadata": {
    "collapsed": false,
    "ExecuteTime": {
     "end_time": "2023-05-20T13:56:36.545309100Z",
     "start_time": "2023-05-20T13:56:36.491578300Z"
    }
   }
  },
  {
   "cell_type": "code",
   "execution_count": 112,
   "outputs": [],
   "source": [
    "te = TransactionEncoder()\n",
    "transaction_list = df[\"Product\"].apply(eval).tolist()\n",
    "te_ary = te.fit_transform(transaction_list)\n",
    "df_processed = pd.DataFrame(te_ary, columns=te.columns_)"
   ],
   "metadata": {
    "collapsed": false,
    "ExecuteTime": {
     "end_time": "2023-05-20T13:56:36.545309100Z",
     "start_time": "2023-05-20T13:56:36.500003400Z"
    }
   }
  },
  {
   "cell_type": "code",
   "execution_count": 113,
   "outputs": [
    {
     "data": {
      "text/plain": "(44, 2)"
     },
     "execution_count": 113,
     "metadata": {},
     "output_type": "execute_result"
    }
   ],
   "source": [
    "df.shape"
   ],
   "metadata": {
    "collapsed": false,
    "ExecuteTime": {
     "end_time": "2023-05-20T13:56:36.545309100Z",
     "start_time": "2023-05-20T13:56:36.518865800Z"
    }
   }
  },
  {
   "cell_type": "markdown",
   "source": [
    "# Apriori and Association rules"
   ],
   "metadata": {
    "collapsed": false
   }
  },
  {
   "cell_type": "code",
   "execution_count": 114,
   "outputs": [],
   "source": [
    "frequent_itemsets: pd.DataFrame = apriori(\n",
    "    df_processed, min_support=0.1, use_colnames=True\n",
    ")\n",
    "aso_rules: pd.DataFrame = association_rules(\n",
    "    frequent_itemsets, metric=\"lift\", min_threshold=0.5\n",
    ")"
   ],
   "metadata": {
    "collapsed": false,
    "ExecuteTime": {
     "end_time": "2023-05-20T13:56:36.545309100Z",
     "start_time": "2023-05-20T13:56:36.529659Z"
    }
   }
  },
  {
   "cell_type": "code",
   "execution_count": 115,
   "outputs": [
    {
     "name": "stdout",
     "output_type": "stream",
     "text": [
      "Frequent Itemsets\n",
      "     support    itemsets\n",
      "0  0.522727    (adjika)\n",
      "1  0.431818   (cheeses)\n",
      "2  0.318182  (crackers)\n",
      "3  0.500000     (honey)\n",
      "4  0.522727  (ketchups)\n",
      "Rules\n",
      "   antecedents consequents  antecedent support  consequent support   support  \\\n",
      "0    (adjika)   (cheeses)            0.522727            0.431818  0.227273   \n",
      "1   (cheeses)    (adjika)            0.431818            0.522727  0.227273   \n",
      "2    (adjika)     (honey)            0.522727            0.500000  0.204545   \n",
      "3     (honey)    (adjika)            0.500000            0.522727  0.204545   \n",
      "4    (adjika)  (ketchups)            0.522727            0.522727  0.522727   \n",
      "\n",
      "   confidence      lift  leverage  conviction  zhangs_metric  \n",
      "0    0.434783  1.006865  0.001550    1.005245       0.014286  \n",
      "1    0.526316  1.006865  0.001550    1.007576       0.012000  \n",
      "2    0.391304  0.782609 -0.056818    0.821429      -0.367893  \n",
      "3    0.409091  0.782609 -0.056818    0.807692      -0.357143  \n",
      "4    1.000000  1.913043  0.249483         inf       1.000000  \n"
     ]
    }
   ],
   "source": [
    "print(\"Frequent Itemsets\\n\", frequent_itemsets.head())\n",
    "print(\"Rules\\n\", aso_rules.head())"
   ],
   "metadata": {
    "collapsed": false,
    "ExecuteTime": {
     "end_time": "2023-05-20T13:56:36.558257700Z",
     "start_time": "2023-05-20T13:56:36.545309100Z"
    }
   }
  },
  {
   "cell_type": "markdown",
   "source": [
    "# Сравнение результаты с различными параметрами"
   ],
   "metadata": {
    "collapsed": false
   }
  },
  {
   "cell_type": "code",
   "execution_count": 116,
   "outputs": [],
   "source": [
    "def test_aso_params(df_processed, support_values=None, confidence_values=None):\n",
    "    if confidence_values is None:\n",
    "        confidence_values = [0.5, 0.6, 0.7]\n",
    "    if support_values is None:\n",
    "        support_values = [0.1, 0.2, 0.3]\n",
    "    results = []\n",
    "    for min_support in support_values:\n",
    "        for min_confidence in confidence_values:\n",
    "            frequent_itemsets = apriori(\n",
    "                df_processed, min_support=min_support, use_colnames=True\n",
    "            )\n",
    "            rules = association_rules(\n",
    "                frequent_itemsets, metric=\"confidence\", min_threshold=min_confidence\n",
    "            )\n",
    "            results.append((min_support, min_confidence, rules))\n",
    "    return results\n",
    "\n",
    "\n",
    "def compare_aso_rules(results):\n",
    "    for result in results:\n",
    "        min_support, min_confidence, rules = result\n",
    "        print(f\"\\nParameters: Min Support={min_support}, Min Confidence={min_confidence}\")\n",
    "        print(\"Number of Rules:\", len(rules))\n",
    "        print(\"Association Rules:\")\n",
    "        print(rules.head(5))\n",
    "        print(\"--------------------------------------\")"
   ],
   "metadata": {
    "collapsed": false,
    "ExecuteTime": {
     "end_time": "2023-05-20T13:56:36.605628100Z",
     "start_time": "2023-05-20T13:56:36.558257700Z"
    }
   }
  },
  {
   "cell_type": "code",
   "execution_count": 117,
   "outputs": [
    {
     "name": "stdout",
     "output_type": "stream",
     "text": [
      "\n",
      "Parameters: Min Support=0.1, Min Confidence=0.5\n",
      "Number of Rules: 300\n",
      "Association Rules:\n",
      "  antecedents consequents  antecedent support  consequent support   support  \\\n",
      "0   (cheeses)    (adjika)            0.431818            0.522727  0.227273   \n",
      "1    (adjika)  (ketchups)            0.522727            0.522727  0.522727   \n",
      "2  (ketchups)    (adjika)            0.522727            0.522727  0.522727   \n",
      "3    (adjika)     (pasta)            0.522727            0.545455  0.454545   \n",
      "4     (pasta)    (adjika)            0.545455            0.522727  0.454545   \n",
      "\n",
      "   confidence      lift  leverage  conviction  zhangs_metric  \n",
      "0    0.526316  1.006865  0.001550    1.007576       0.012000  \n",
      "1    1.000000  1.913043  0.249483         inf       1.000000  \n",
      "2    1.000000  1.913043  0.249483         inf       1.000000  \n",
      "3    0.869565  1.594203  0.169421    3.484848       0.780952  \n",
      "4    0.833333  1.594203  0.169421    2.863636       0.820000  \n",
      "--------------------------------------\n",
      "\n",
      "Parameters: Min Support=0.1, Min Confidence=0.6\n",
      "Number of Rules: 230\n",
      "Association Rules:\n",
      "  antecedents consequents  antecedent support  consequent support   support  \\\n",
      "0    (adjika)  (ketchups)            0.522727            0.522727  0.522727   \n",
      "1  (ketchups)    (adjika)            0.522727            0.522727  0.522727   \n",
      "2    (adjika)     (pasta)            0.522727            0.545455  0.454545   \n",
      "3     (pasta)    (adjika)            0.545455            0.522727  0.454545   \n",
      "4    (adjika)    (sauces)            0.522727            0.522727  0.522727   \n",
      "\n",
      "   confidence      lift  leverage  conviction  zhangs_metric  \n",
      "0    1.000000  1.913043  0.249483         inf       1.000000  \n",
      "1    1.000000  1.913043  0.249483         inf       1.000000  \n",
      "2    0.869565  1.594203  0.169421    3.484848       0.780952  \n",
      "3    0.833333  1.594203  0.169421    2.863636       0.820000  \n",
      "4    1.000000  1.913043  0.249483         inf       1.000000  \n",
      "--------------------------------------\n",
      "\n",
      "Parameters: Min Support=0.1, Min Confidence=0.7\n",
      "Number of Rules: 223\n",
      "Association Rules:\n",
      "  antecedents consequents  antecedent support  consequent support   support  \\\n",
      "0    (adjika)  (ketchups)            0.522727            0.522727  0.522727   \n",
      "1  (ketchups)    (adjika)            0.522727            0.522727  0.522727   \n",
      "2    (adjika)     (pasta)            0.522727            0.545455  0.454545   \n",
      "3     (pasta)    (adjika)            0.545455            0.522727  0.454545   \n",
      "4    (adjika)    (sauces)            0.522727            0.522727  0.522727   \n",
      "\n",
      "   confidence      lift  leverage  conviction  zhangs_metric  \n",
      "0    1.000000  1.913043  0.249483         inf       1.000000  \n",
      "1    1.000000  1.913043  0.249483         inf       1.000000  \n",
      "2    0.869565  1.594203  0.169421    3.484848       0.780952  \n",
      "3    0.833333  1.594203  0.169421    2.863636       0.820000  \n",
      "4    1.000000  1.913043  0.249483         inf       1.000000  \n",
      "--------------------------------------\n",
      "\n",
      "Parameters: Min Support=0.2, Min Confidence=0.5\n",
      "Number of Rules: 221\n",
      "Association Rules:\n",
      "  antecedents consequents  antecedent support  consequent support   support  \\\n",
      "0   (cheeses)    (adjika)            0.431818            0.522727  0.227273   \n",
      "1    (adjika)  (ketchups)            0.522727            0.522727  0.522727   \n",
      "2  (ketchups)    (adjika)            0.522727            0.522727  0.522727   \n",
      "3    (adjika)     (pasta)            0.522727            0.545455  0.454545   \n",
      "4     (pasta)    (adjika)            0.545455            0.522727  0.454545   \n",
      "\n",
      "   confidence      lift  leverage  conviction  zhangs_metric  \n",
      "0    0.526316  1.006865  0.001550    1.007576       0.012000  \n",
      "1    1.000000  1.913043  0.249483         inf       1.000000  \n",
      "2    1.000000  1.913043  0.249483         inf       1.000000  \n",
      "3    0.869565  1.594203  0.169421    3.484848       0.780952  \n",
      "4    0.833333  1.594203  0.169421    2.863636       0.820000  \n",
      "--------------------------------------\n",
      "\n",
      "Parameters: Min Support=0.2, Min Confidence=0.6\n",
      "Number of Rules: 173\n",
      "Association Rules:\n",
      "  antecedents consequents  antecedent support  consequent support   support  \\\n",
      "0    (adjika)  (ketchups)            0.522727            0.522727  0.522727   \n",
      "1  (ketchups)    (adjika)            0.522727            0.522727  0.522727   \n",
      "2    (adjika)     (pasta)            0.522727            0.545455  0.454545   \n",
      "3     (pasta)    (adjika)            0.545455            0.522727  0.454545   \n",
      "4    (adjika)    (sauces)            0.522727            0.522727  0.522727   \n",
      "\n",
      "   confidence      lift  leverage  conviction  zhangs_metric  \n",
      "0    1.000000  1.913043  0.249483         inf       1.000000  \n",
      "1    1.000000  1.913043  0.249483         inf       1.000000  \n",
      "2    0.869565  1.594203  0.169421    3.484848       0.780952  \n",
      "3    0.833333  1.594203  0.169421    2.863636       0.820000  \n",
      "4    1.000000  1.913043  0.249483         inf       1.000000  \n",
      "--------------------------------------\n",
      "\n",
      "Parameters: Min Support=0.2, Min Confidence=0.7\n",
      "Number of Rules: 168\n",
      "Association Rules:\n",
      "  antecedents consequents  antecedent support  consequent support   support  \\\n",
      "0    (adjika)  (ketchups)            0.522727            0.522727  0.522727   \n",
      "1  (ketchups)    (adjika)            0.522727            0.522727  0.522727   \n",
      "2    (adjika)     (pasta)            0.522727            0.545455  0.454545   \n",
      "3     (pasta)    (adjika)            0.545455            0.522727  0.454545   \n",
      "4    (adjika)    (sauces)            0.522727            0.522727  0.522727   \n",
      "\n",
      "   confidence      lift  leverage  conviction  zhangs_metric  \n",
      "0    1.000000  1.913043  0.249483         inf       1.000000  \n",
      "1    1.000000  1.913043  0.249483         inf       1.000000  \n",
      "2    0.869565  1.594203  0.169421    3.484848       0.780952  \n",
      "3    0.833333  1.594203  0.169421    2.863636       0.820000  \n",
      "4    1.000000  1.913043  0.249483         inf       1.000000  \n",
      "--------------------------------------\n",
      "\n",
      "Parameters: Min Support=0.3, Min Confidence=0.5\n",
      "Number of Rules: 52\n",
      "Association Rules:\n",
      "  antecedents consequents  antecedent support  consequent support   support  \\\n",
      "0    (adjika)  (ketchups)            0.522727            0.522727  0.522727   \n",
      "1  (ketchups)    (adjika)            0.522727            0.522727  0.522727   \n",
      "2    (adjika)     (pasta)            0.522727            0.545455  0.454545   \n",
      "3     (pasta)    (adjika)            0.545455            0.522727  0.454545   \n",
      "4    (adjika)    (sauces)            0.522727            0.522727  0.522727   \n",
      "\n",
      "   confidence      lift  leverage  conviction  zhangs_metric  \n",
      "0    1.000000  1.913043  0.249483         inf       1.000000  \n",
      "1    1.000000  1.913043  0.249483         inf       1.000000  \n",
      "2    0.869565  1.594203  0.169421    3.484848       0.780952  \n",
      "3    0.833333  1.594203  0.169421    2.863636       0.820000  \n",
      "4    1.000000  1.913043  0.249483         inf       1.000000  \n",
      "--------------------------------------\n",
      "\n",
      "Parameters: Min Support=0.3, Min Confidence=0.6\n",
      "Number of Rules: 51\n",
      "Association Rules:\n",
      "  antecedents consequents  antecedent support  consequent support   support  \\\n",
      "0    (adjika)  (ketchups)            0.522727            0.522727  0.522727   \n",
      "1  (ketchups)    (adjika)            0.522727            0.522727  0.522727   \n",
      "2    (adjika)     (pasta)            0.522727            0.545455  0.454545   \n",
      "3     (pasta)    (adjika)            0.545455            0.522727  0.454545   \n",
      "4    (adjika)    (sauces)            0.522727            0.522727  0.522727   \n",
      "\n",
      "   confidence      lift  leverage  conviction  zhangs_metric  \n",
      "0    1.000000  1.913043  0.249483         inf       1.000000  \n",
      "1    1.000000  1.913043  0.249483         inf       1.000000  \n",
      "2    0.869565  1.594203  0.169421    3.484848       0.780952  \n",
      "3    0.833333  1.594203  0.169421    2.863636       0.820000  \n",
      "4    1.000000  1.913043  0.249483         inf       1.000000  \n",
      "--------------------------------------\n",
      "\n",
      "Parameters: Min Support=0.3, Min Confidence=0.7\n",
      "Number of Rules: 51\n",
      "Association Rules:\n",
      "  antecedents consequents  antecedent support  consequent support   support  \\\n",
      "0    (adjika)  (ketchups)            0.522727            0.522727  0.522727   \n",
      "1  (ketchups)    (adjika)            0.522727            0.522727  0.522727   \n",
      "2    (adjika)     (pasta)            0.522727            0.545455  0.454545   \n",
      "3     (pasta)    (adjika)            0.545455            0.522727  0.454545   \n",
      "4    (adjika)    (sauces)            0.522727            0.522727  0.522727   \n",
      "\n",
      "   confidence      lift  leverage  conviction  zhangs_metric  \n",
      "0    1.000000  1.913043  0.249483         inf       1.000000  \n",
      "1    1.000000  1.913043  0.249483         inf       1.000000  \n",
      "2    0.869565  1.594203  0.169421    3.484848       0.780952  \n",
      "3    0.833333  1.594203  0.169421    2.863636       0.820000  \n",
      "4    1.000000  1.913043  0.249483         inf       1.000000  \n",
      "--------------------------------------\n"
     ]
    }
   ],
   "source": [
    "association_rules_list = test_aso_params(df_processed)\n",
    "compare_aso_rules(association_rules_list)"
   ],
   "metadata": {
    "collapsed": false,
    "ExecuteTime": {
     "end_time": "2023-05-20T13:56:36.699850200Z",
     "start_time": "2023-05-20T13:56:36.577961300Z"
    }
   }
  },
  {
   "cell_type": "markdown",
   "source": [
    "# Ответы на вопросы"
   ],
   "metadata": {
    "collapsed": false
   }
  },
  {
   "cell_type": "markdown",
   "source": [
    "### Какой товар с наибольшей достоверностью берут с вафлями"
   ],
   "metadata": {
    "collapsed": false
   }
  },
  {
   "cell_type": "code",
   "execution_count": 118,
   "outputs": [
    {
     "name": "stdout",
     "output_type": "stream",
     "text": [
      "frozenset({'cheeses'})\n"
     ]
    }
   ],
   "source": [
    "waffles_rules = aso_rules[aso_rules[\"antecedents\"].apply(lambda x: \"waffles\" in x)]\n",
    "most_likely_product = (\n",
    "    waffles_rules.iloc[0][\"consequents\"]\n",
    "    if not waffles_rules.empty\n",
    "    else \"No association rules found for waffles.\"\n",
    ")\n",
    "print(most_likely_product)"
   ],
   "metadata": {
    "collapsed": false,
    "ExecuteTime": {
     "end_time": "2023-05-20T13:56:36.699850200Z",
     "start_time": "2023-05-20T13:56:36.668661800Z"
    }
   }
  },
  {
   "cell_type": "markdown",
   "source": [
    "### Человек взял мед и сыры, какой один из товаров он скорее всего не возьмёт"
   ],
   "metadata": {
    "collapsed": false
   }
  },
  {
   "cell_type": "code",
   "execution_count": 119,
   "outputs": [
    {
     "name": "stdout",
     "output_type": "stream",
     "text": [
      "frozenset({'tea'})\n"
     ]
    }
   ],
   "source": [
    "honey_cheeses_rules = aso_rules[\n",
    "    aso_rules[\"consequents\"].apply(lambda x: {\"honey\", \"cheeses\"}.issubset(x))\n",
    "]\n",
    "least_likely_product = (\n",
    "    honey_cheeses_rules.iloc[0][\"antecedents\"]\n",
    "    if not honey_cheeses_rules.empty\n",
    "    else \"No association rules found for honey and cheeses.\"\n",
    ")\n",
    "print(least_likely_product)"
   ],
   "metadata": {
    "collapsed": false,
    "ExecuteTime": {
     "end_time": "2023-05-20T13:56:36.747160100Z",
     "start_time": "2023-05-20T13:56:36.684226400Z"
    }
   }
  },
  {
   "cell_type": "markdown",
   "source": [
    "### 5 самых популярных наборов товаров (в наборе может быть один или несколько товаров)"
   ],
   "metadata": {
    "collapsed": false
   }
  },
  {
   "cell_type": "code",
   "execution_count": 120,
   "outputs": [
    {
     "name": "stdout",
     "output_type": "stream",
     "text": [
      "    support    itemsets\n",
      "7  0.750000       (tea)\n",
      "5  0.545455     (pasta)\n",
      "0  0.522727    (adjika)\n",
      "4  0.522727  (ketchups)\n",
      "6  0.522727    (sauces)\n"
     ]
    }
   ],
   "source": [
    "popular_sets = frequent_itemsets.sort_values(by=\"support\", ascending=False).head(5)\n",
    "print(popular_sets) if not popular_sets.empty else print(\"No frequent itemsets found.\")"
   ],
   "metadata": {
    "collapsed": false,
    "ExecuteTime": {
     "end_time": "2023-05-20T13:56:36.747160100Z",
     "start_time": "2023-05-20T13:56:36.699850200Z"
    }
   }
  },
  {
   "cell_type": "markdown",
   "source": [
    "### Описать 4-5 ассоциативных правил, полученных при реализации алгоритмов"
   ],
   "metadata": {
    "collapsed": false
   }
  },
  {
   "cell_type": "code",
   "execution_count": 127,
   "outputs": [
    {
     "name": "stdout",
     "output_type": "stream",
     "text": [
      "\n",
      "1.Rule:\n",
      "\tAntecedents: ['adjika']\n",
      "\tConsequents: ['cheeses']\n",
      "\tSupport: 0.22727272727272727\n",
      "\tConfidence: 0.43478260869565216\n",
      "\n",
      "2.Rule:\n",
      "\tAntecedents: ['cheeses']\n",
      "\tConsequents: ['adjika']\n",
      "\tSupport: 0.22727272727272727\n",
      "\tConfidence: 0.5263157894736842\n",
      "\n",
      "3.Rule:\n",
      "\tAntecedents: ['adjika']\n",
      "\tConsequents: ['honey']\n",
      "\tSupport: 0.20454545454545456\n",
      "\tConfidence: 0.391304347826087\n",
      "\n",
      "4.Rule:\n",
      "\tAntecedents: ['honey']\n",
      "\tConsequents: ['adjika']\n",
      "\tSupport: 0.20454545454545456\n",
      "\tConfidence: 0.4090909090909091\n",
      "\n",
      "5.Rule:\n",
      "\tAntecedents: ['adjika']\n",
      "\tConsequents: ['ketchups']\n",
      "\tSupport: 0.5227272727272727\n",
      "\tConfidence: 1.0\n",
      "\n",
      "6.Rule:\n",
      "\tAntecedents: ['ketchups']\n",
      "\tConsequents: ['adjika']\n",
      "\tSupport: 0.5227272727272727\n",
      "\tConfidence: 1.0\n",
      "\n",
      "7.Rule:\n",
      "\tAntecedents: ['adjika']\n",
      "\tConsequents: ['pasta']\n",
      "\tSupport: 0.45454545454545453\n",
      "\tConfidence: 0.8695652173913043\n",
      "\n",
      "8.Rule:\n",
      "\tAntecedents: ['pasta']\n",
      "\tConsequents: ['adjika']\n",
      "\tSupport: 0.45454545454545453\n",
      "\tConfidence: 0.8333333333333334\n",
      "\n",
      "9.Rule:\n",
      "\tAntecedents: ['adjika']\n",
      "\tConsequents: ['sauces']\n",
      "\tSupport: 0.5227272727272727\n",
      "\tConfidence: 1.0\n",
      "\n",
      "10.Rule:\n",
      "\tAntecedents: ['sauces']\n",
      "\tConsequents: ['adjika']\n",
      "\tSupport: 0.5227272727272727\n",
      "\tConfidence: 1.0\n"
     ]
    }
   ],
   "source": [
    "top_rules = aso_rules.head(10)\n",
    "for idx, rule in top_rules.iterrows():\n",
    "    print(f\"\\n{idx + 1}.Rule:\")\n",
    "    print(\"\\tAntecedents:\", list(rule[\"antecedents\"]))\n",
    "    print(\"\\tConsequents:\", list(rule[\"consequents\"]))\n",
    "    print(\"\\tSupport:\", rule[\"support\"])\n",
    "    print(\"\\tConfidence:\", rule[\"confidence\"])"
   ],
   "metadata": {
    "collapsed": false,
    "ExecuteTime": {
     "end_time": "2023-05-20T14:09:38.331760500Z",
     "start_time": "2023-05-20T14:09:38.331760500Z"
    }
   }
  },
  {
   "cell_type": "code",
   "execution_count": null,
   "outputs": [],
   "source": [],
   "metadata": {
    "collapsed": false
   }
  },
  {
   "cell_type": "markdown",
   "source": [
    "# Предсказание выбора следующего продукта(ов)"
   ],
   "metadata": {
    "collapsed": false
   }
  },
  {
   "cell_type": "code",
   "execution_count": 122,
   "outputs": [],
   "source": [
    "def predict_next_products(current_products, rules, top_next_n=2):\n",
    "    predicted_products = []\n",
    "    for item in current_products:\n",
    "        filtered_rules = rules[\n",
    "            rules[\"antecedents\"].apply(lambda x: item in x)\n",
    "        ]\n",
    "        if not filtered_rules.empty:\n",
    "            sorted_rules = filtered_rules.sort_values(by=\"lift\", ascending=False)\n",
    "            top_consequents = list(sorted_rules[\"consequents\"][:top_next_n - 1])\n",
    "            predicted_products.extend(top_consequents)\n",
    "    predicted_products = [list(x) for x in set(predicted_products)]\n",
    "    return predicted_products"
   ],
   "metadata": {
    "collapsed": false,
    "ExecuteTime": {
     "end_time": "2023-05-20T13:56:36.747160100Z",
     "start_time": "2023-05-20T13:56:36.731515700Z"
    }
   }
  },
  {
   "cell_type": "code",
   "execution_count": 123,
   "outputs": [
    {
     "data": {
      "text/plain": "[Current Products             [ketchups]\n Predicted Products    [[pasta, sauces]]\n dtype: object,\n Current Products                                [pasta, tea]\n Predicted Products    [[adjika, sauces, cheeses], [waffles]]\n dtype: object,\n Current Products                                  [honey, cheeses]\n Predicted Products    [[adjika, pasta], [ketchups, pasta, sauces]]\n dtype: object,\n Current Products      [cheeses, cheeses]\n Predicted Products     [[adjika, pasta]]\n dtype: object,\n Current Products                          [honey]\n Predicted Products    [[ketchups, pasta, sauces]]\n dtype: object,\n Current Products         [waffles]\n Predicted Products    [[crackers]]\n dtype: object,\n Current Products                             [pasta, waffles]\n Predicted Products    [[adjika, sauces, cheeses], [crackers]]\n dtype: object,\n Current Products           [tea, adjika, crackers]\n Predicted Products    [[pasta, sauces], [waffles]]\n dtype: object,\n Current Products                [adjika, tea, tea]\n Predicted Products    [[pasta, sauces], [waffles]]\n dtype: object]"
     },
     "execution_count": 123,
     "metadata": {},
     "output_type": "execute_result"
    }
   ],
   "source": [
    "unique_products = df['Product'].apply(lambda x: eval(x)).explode().unique()\n",
    "df_predict_next = []\n",
    "for _ in range(len(unique_products)):\n",
    "    current_products = random.choices(unique_products, k=random.randint(1, 3))\n",
    "    predicted_next_products = predict_next_products(current_products, aso_rules)\n",
    "    data = {\"Current Products\": current_products, \"Predicted Products\": predicted_next_products}\n",
    "    df_predict_next.append(pd.Series(data))\n",
    "df_predict_next"
   ],
   "metadata": {
    "collapsed": false,
    "ExecuteTime": {
     "end_time": "2023-05-20T13:56:36.825812100Z",
     "start_time": "2023-05-20T13:56:36.747160100Z"
    }
   }
  }
 ],
 "metadata": {
  "kernelspec": {
   "display_name": "Python 3",
   "language": "python",
   "name": "python3"
  },
  "language_info": {
   "codemirror_mode": {
    "name": "ipython",
    "version": 2
   },
   "file_extension": ".py",
   "mimetype": "text/x-python",
   "name": "python",
   "nbconvert_exporter": "python",
   "pygments_lexer": "ipython2",
   "version": "2.7.6"
  }
 },
 "nbformat": 4,
 "nbformat_minor": 0
}
